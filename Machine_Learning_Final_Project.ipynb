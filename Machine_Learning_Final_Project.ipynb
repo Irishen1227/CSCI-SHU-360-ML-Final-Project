{
  "cells": [
    {
      "cell_type": "code",
      "execution_count": null,
      "metadata": {
        "id": "j3DhwHKsLdY3"
      },
      "outputs": [],
      "source": [
        "#from google.colab import drive\n",
        "#drive.mount('/content/drive')\n",
        "import pandas as pd\n",
        "import numpy as np\n",
        "from sklearn.model_selection import StratifiedKFold\n",
        "import sklearn.datasets\n",
        "import sklearn.neighbors\n",
        "import sklearn.svm\n",
        "import sklearn.linear_model\n",
        "import sklearn.ensemble\n",
        "import sklearn.tree\n",
        "import matplotlib.pyplot as plt\n",
        "from matplotlib.colors import ListedColormap\n",
        "from sklearn.datasets import make_circles\n",
        "from sklearn.metrics import accuracy_score\n",
        "from sklearn.metrics import precision_score\n",
        "from sklearn.metrics import recall_score\n",
        "from sklearn.metrics import f1_score\n",
        "from sklearn.metrics import cohen_kappa_score\n",
        "from sklearn.metrics import roc_auc_score\n",
        "from sklearn.metrics import confusion_matrix\n",
        "from keras.models import Sequential\n",
        "from keras.layers import Dense"
      ]
    },
    {
      "cell_type": "code",
      "execution_count": null,
      "metadata": {
        "id": "9H_BlnegLnky"
      },
      "outputs": [],
      "source": [
        "#df = pd.read_csv(\"/content/drive/MyDrive/Machine Learning/credit_risk_dataset.csv\")\n",
        "\n",
        "df = pd.read_csv(\"credit_risk_dataset.csv\")\n"
      ]
    },
    {
      "cell_type": "code",
      "execution_count": null,
      "metadata": {
        "colab": {
          "base_uri": "https://localhost:8080/"
        },
        "id": "EC9Ej9EkhrkY",
        "outputId": "38f4db03-736f-494a-ccac-7b4699aeabbd"
      },
      "outputs": [
        {
          "data": {
            "text/plain": [
              "32581"
            ]
          },
          "execution_count": 3,
          "metadata": {},
          "output_type": "execute_result"
        }
      ],
      "source": [
        "len(df)"
      ]
    },
    {
      "cell_type": "markdown",
      "metadata": {
        "id": "PhE5xUk9enXY"
      },
      "source": [
        "## Data Cleasing"
      ]
    },
    {
      "cell_type": "code",
      "execution_count": null,
      "metadata": {
        "colab": {
          "base_uri": "https://localhost:8080/"
        },
        "id": "Ugjpw9jQeuQa",
        "outputId": "9d3c83b1-e2ab-4646-a08a-dab885b7c5c5"
      },
      "outputs": [
        {
          "data": {
            "text/plain": [
              "person_age                    0.000000\n",
              "person_income                 0.000000\n",
              "person_home_ownership         0.000000\n",
              "person_emp_length             0.027470\n",
              "loan_intent                   0.000000\n",
              "loan_grade                    0.000000\n",
              "loan_amnt                     0.000000\n",
              "loan_int_rate                 0.095639\n",
              "loan_status                   0.000000\n",
              "loan_percent_income           0.000000\n",
              "cb_person_default_on_file     0.000000\n",
              "cb_person_cred_hist_length    0.000000\n",
              "dtype: float64"
            ]
          },
          "execution_count": 4,
          "metadata": {},
          "output_type": "execute_result"
        }
      ],
      "source": [
        "# check NA ratio\n",
        "Na_per = df.isnull().sum() / df.shape[0]\n",
        "Na_per"
      ]
    },
    {
      "cell_type": "code",
      "execution_count": null,
      "metadata": {
        "id": "7wR1ChITfNO7"
      },
      "outputs": [],
      "source": [
        "df = df.fillna(method = 'backfill')"
      ]
    },
    {
      "cell_type": "code",
      "execution_count": null,
      "metadata": {
        "colab": {
          "base_uri": "https://localhost:8080/"
        },
        "id": "l8VByNR4g4Nf",
        "outputId": "bc6fcc8a-f3d6-428f-b51d-ce6ba4c5e3ac"
      },
      "outputs": [
        {
          "data": {
            "text/plain": [
              "person_age                    0.0\n",
              "person_income                 0.0\n",
              "person_home_ownership         0.0\n",
              "person_emp_length             0.0\n",
              "loan_intent                   0.0\n",
              "loan_grade                    0.0\n",
              "loan_amnt                     0.0\n",
              "loan_int_rate                 0.0\n",
              "loan_status                   0.0\n",
              "loan_percent_income           0.0\n",
              "cb_person_default_on_file     0.0\n",
              "cb_person_cred_hist_length    0.0\n",
              "dtype: float64"
            ]
          },
          "execution_count": 6,
          "metadata": {},
          "output_type": "execute_result"
        }
      ],
      "source": [
        "Na_per = df.isnull().sum() / df.shape[0]\n",
        "Na_per"
      ]
    },
    {
      "cell_type": "markdown",
      "metadata": {
        "id": "Ev79gT50hflD"
      },
      "source": [
        "## Describe Stats"
      ]
    },
    {
      "cell_type": "code",
      "execution_count": null,
      "metadata": {
        "colab": {
          "base_uri": "https://localhost:8080/",
          "height": 364
        },
        "id": "1XBCUfJQhoPB",
        "outputId": "28067bea-d061-4d25-dd1f-e41cbd497fb1"
      },
      "outputs": [
        {
          "data": {
            "text/html": [
              "\n",
              "  <div id=\"df-a328ff65-6741-4c73-aca4-ff49aae48fa6\">\n",
              "    <div class=\"colab-df-container\">\n",
              "      <div>\n",
              "<style scoped>\n",
              "    .dataframe tbody tr th:only-of-type {\n",
              "        vertical-align: middle;\n",
              "    }\n",
              "\n",
              "    .dataframe tbody tr th {\n",
              "        vertical-align: top;\n",
              "    }\n",
              "\n",
              "    .dataframe thead th {\n",
              "        text-align: right;\n",
              "    }\n",
              "</style>\n",
              "<table border=\"1\" class=\"dataframe\">\n",
              "  <thead>\n",
              "    <tr style=\"text-align: right;\">\n",
              "      <th></th>\n",
              "      <th>person_age</th>\n",
              "      <th>person_income</th>\n",
              "      <th>person_emp_length</th>\n",
              "      <th>loan_amnt</th>\n",
              "      <th>loan_int_rate</th>\n",
              "      <th>loan_status</th>\n",
              "      <th>loan_percent_income</th>\n",
              "      <th>cb_person_cred_hist_length</th>\n",
              "    </tr>\n",
              "  </thead>\n",
              "  <tbody>\n",
              "    <tr>\n",
              "      <th>count</th>\n",
              "      <td>32581.000000</td>\n",
              "      <td>3.258100e+04</td>\n",
              "      <td>32581.000000</td>\n",
              "      <td>32581.000000</td>\n",
              "      <td>32581.000000</td>\n",
              "      <td>32581.000000</td>\n",
              "      <td>32581.000000</td>\n",
              "      <td>32581.000000</td>\n",
              "    </tr>\n",
              "    <tr>\n",
              "      <th>mean</th>\n",
              "      <td>27.734600</td>\n",
              "      <td>6.607485e+04</td>\n",
              "      <td>4.780762</td>\n",
              "      <td>9589.371106</td>\n",
              "      <td>11.011071</td>\n",
              "      <td>0.218164</td>\n",
              "      <td>0.170203</td>\n",
              "      <td>5.804211</td>\n",
              "    </tr>\n",
              "    <tr>\n",
              "      <th>std</th>\n",
              "      <td>6.348078</td>\n",
              "      <td>6.198312e+04</td>\n",
              "      <td>4.131268</td>\n",
              "      <td>6322.086646</td>\n",
              "      <td>3.244322</td>\n",
              "      <td>0.413006</td>\n",
              "      <td>0.106782</td>\n",
              "      <td>4.055001</td>\n",
              "    </tr>\n",
              "    <tr>\n",
              "      <th>min</th>\n",
              "      <td>20.000000</td>\n",
              "      <td>4.000000e+03</td>\n",
              "      <td>0.000000</td>\n",
              "      <td>500.000000</td>\n",
              "      <td>5.420000</td>\n",
              "      <td>0.000000</td>\n",
              "      <td>0.000000</td>\n",
              "      <td>2.000000</td>\n",
              "    </tr>\n",
              "    <tr>\n",
              "      <th>25%</th>\n",
              "      <td>23.000000</td>\n",
              "      <td>3.850000e+04</td>\n",
              "      <td>2.000000</td>\n",
              "      <td>5000.000000</td>\n",
              "      <td>7.900000</td>\n",
              "      <td>0.000000</td>\n",
              "      <td>0.090000</td>\n",
              "      <td>3.000000</td>\n",
              "    </tr>\n",
              "    <tr>\n",
              "      <th>50%</th>\n",
              "      <td>26.000000</td>\n",
              "      <td>5.500000e+04</td>\n",
              "      <td>4.000000</td>\n",
              "      <td>8000.000000</td>\n",
              "      <td>10.990000</td>\n",
              "      <td>0.000000</td>\n",
              "      <td>0.150000</td>\n",
              "      <td>4.000000</td>\n",
              "    </tr>\n",
              "    <tr>\n",
              "      <th>75%</th>\n",
              "      <td>30.000000</td>\n",
              "      <td>7.920000e+04</td>\n",
              "      <td>7.000000</td>\n",
              "      <td>12200.000000</td>\n",
              "      <td>13.470000</td>\n",
              "      <td>0.000000</td>\n",
              "      <td>0.230000</td>\n",
              "      <td>8.000000</td>\n",
              "    </tr>\n",
              "    <tr>\n",
              "      <th>max</th>\n",
              "      <td>144.000000</td>\n",
              "      <td>6.000000e+06</td>\n",
              "      <td>123.000000</td>\n",
              "      <td>35000.000000</td>\n",
              "      <td>23.220000</td>\n",
              "      <td>1.000000</td>\n",
              "      <td>0.830000</td>\n",
              "      <td>30.000000</td>\n",
              "    </tr>\n",
              "  </tbody>\n",
              "</table>\n",
              "</div>\n",
              "      <button class=\"colab-df-convert\" onclick=\"convertToInteractive('df-a328ff65-6741-4c73-aca4-ff49aae48fa6')\"\n",
              "              title=\"Convert this dataframe to an interactive table.\"\n",
              "              style=\"display:none;\">\n",
              "        \n",
              "  <svg xmlns=\"http://www.w3.org/2000/svg\" height=\"24px\"viewBox=\"0 0 24 24\"\n",
              "       width=\"24px\">\n",
              "    <path d=\"M0 0h24v24H0V0z\" fill=\"none\"/>\n",
              "    <path d=\"M18.56 5.44l.94 2.06.94-2.06 2.06-.94-2.06-.94-.94-2.06-.94 2.06-2.06.94zm-11 1L8.5 8.5l.94-2.06 2.06-.94-2.06-.94L8.5 2.5l-.94 2.06-2.06.94zm10 10l.94 2.06.94-2.06 2.06-.94-2.06-.94-.94-2.06-.94 2.06-2.06.94z\"/><path d=\"M17.41 7.96l-1.37-1.37c-.4-.4-.92-.59-1.43-.59-.52 0-1.04.2-1.43.59L10.3 9.45l-7.72 7.72c-.78.78-.78 2.05 0 2.83L4 21.41c.39.39.9.59 1.41.59.51 0 1.02-.2 1.41-.59l7.78-7.78 2.81-2.81c.8-.78.8-2.07 0-2.86zM5.41 20L4 18.59l7.72-7.72 1.47 1.35L5.41 20z\"/>\n",
              "  </svg>\n",
              "      </button>\n",
              "      \n",
              "  <style>\n",
              "    .colab-df-container {\n",
              "      display:flex;\n",
              "      flex-wrap:wrap;\n",
              "      gap: 12px;\n",
              "    }\n",
              "\n",
              "    .colab-df-convert {\n",
              "      background-color: #E8F0FE;\n",
              "      border: none;\n",
              "      border-radius: 50%;\n",
              "      cursor: pointer;\n",
              "      display: none;\n",
              "      fill: #1967D2;\n",
              "      height: 32px;\n",
              "      padding: 0 0 0 0;\n",
              "      width: 32px;\n",
              "    }\n",
              "\n",
              "    .colab-df-convert:hover {\n",
              "      background-color: #E2EBFA;\n",
              "      box-shadow: 0px 1px 2px rgba(60, 64, 67, 0.3), 0px 1px 3px 1px rgba(60, 64, 67, 0.15);\n",
              "      fill: #174EA6;\n",
              "    }\n",
              "\n",
              "    [theme=dark] .colab-df-convert {\n",
              "      background-color: #3B4455;\n",
              "      fill: #D2E3FC;\n",
              "    }\n",
              "\n",
              "    [theme=dark] .colab-df-convert:hover {\n",
              "      background-color: #434B5C;\n",
              "      box-shadow: 0px 1px 3px 1px rgba(0, 0, 0, 0.15);\n",
              "      filter: drop-shadow(0px 1px 2px rgba(0, 0, 0, 0.3));\n",
              "      fill: #FFFFFF;\n",
              "    }\n",
              "  </style>\n",
              "\n",
              "      <script>\n",
              "        const buttonEl =\n",
              "          document.querySelector('#df-a328ff65-6741-4c73-aca4-ff49aae48fa6 button.colab-df-convert');\n",
              "        buttonEl.style.display =\n",
              "          google.colab.kernel.accessAllowed ? 'block' : 'none';\n",
              "\n",
              "        async function convertToInteractive(key) {\n",
              "          const element = document.querySelector('#df-a328ff65-6741-4c73-aca4-ff49aae48fa6');\n",
              "          const dataTable =\n",
              "            await google.colab.kernel.invokeFunction('convertToInteractive',\n",
              "                                                     [key], {});\n",
              "          if (!dataTable) return;\n",
              "\n",
              "          const docLinkHtml = 'Like what you see? Visit the ' +\n",
              "            '<a target=\"_blank\" href=https://colab.research.google.com/notebooks/data_table.ipynb>data table notebook</a>'\n",
              "            + ' to learn more about interactive tables.';\n",
              "          element.innerHTML = '';\n",
              "          dataTable['output_type'] = 'display_data';\n",
              "          await google.colab.output.renderOutput(dataTable, element);\n",
              "          const docLink = document.createElement('div');\n",
              "          docLink.innerHTML = docLinkHtml;\n",
              "          element.appendChild(docLink);\n",
              "        }\n",
              "      </script>\n",
              "    </div>\n",
              "  </div>\n",
              "  "
            ],
            "text/plain": [
              "         person_age  person_income  person_emp_length     loan_amnt  \\\n",
              "count  32581.000000   3.258100e+04       32581.000000  32581.000000   \n",
              "mean      27.734600   6.607485e+04           4.780762   9589.371106   \n",
              "std        6.348078   6.198312e+04           4.131268   6322.086646   \n",
              "min       20.000000   4.000000e+03           0.000000    500.000000   \n",
              "25%       23.000000   3.850000e+04           2.000000   5000.000000   \n",
              "50%       26.000000   5.500000e+04           4.000000   8000.000000   \n",
              "75%       30.000000   7.920000e+04           7.000000  12200.000000   \n",
              "max      144.000000   6.000000e+06         123.000000  35000.000000   \n",
              "\n",
              "       loan_int_rate   loan_status  loan_percent_income  \\\n",
              "count   32581.000000  32581.000000         32581.000000   \n",
              "mean       11.011071      0.218164             0.170203   \n",
              "std         3.244322      0.413006             0.106782   \n",
              "min         5.420000      0.000000             0.000000   \n",
              "25%         7.900000      0.000000             0.090000   \n",
              "50%        10.990000      0.000000             0.150000   \n",
              "75%        13.470000      0.000000             0.230000   \n",
              "max        23.220000      1.000000             0.830000   \n",
              "\n",
              "       cb_person_cred_hist_length  \n",
              "count                32581.000000  \n",
              "mean                     5.804211  \n",
              "std                      4.055001  \n",
              "min                      2.000000  \n",
              "25%                      3.000000  \n",
              "50%                      4.000000  \n",
              "75%                      8.000000  \n",
              "max                     30.000000  "
            ]
          },
          "execution_count": 7,
          "metadata": {},
          "output_type": "execute_result"
        }
      ],
      "source": [
        "df.describe()"
      ]
    },
    {
      "cell_type": "code",
      "execution_count": null,
      "metadata": {
        "colab": {
          "base_uri": "https://localhost:8080/",
          "height": 967
        },
        "id": "o4JP-cJbibLJ",
        "outputId": "4efbc303-a5c3-474b-9f3e-0c969976dd74"
      },
      "outputs": [
        {
          "data": {
            "image/png": "[encoded data removed]",
            "text/plain": [
              "<Figure size 864x1152 with 8 Axes>"
            ]
          },
          "metadata": {},
          "output_type": "display_data"
        }
      ],
      "source": [
        "import matplotlib.pyplot as plt\n",
        "fig, axs = plt.subplots(4,2,figsize =(12,16),tight_layout = True)\n",
        "\n",
        "axs[0,0].hist(df['person_age'],density = True)\n",
        "axs[0,0].set_title('person_age')\n",
        "axs[0,0].set_ylabel('density')\n",
        "\n",
        "axs[0,1].hist(df['person_income'], density = True)\n",
        "axs[0,1].set_title('person_income')\n",
        "axs[0,1].set_ylabel('density')\n",
        "\n",
        "axs[1,0].hist(df['person_emp_length'], density = True)\n",
        "axs[1,0].set_title('person_emp_length')\n",
        "axs[1,0].set_ylabel('density')\n",
        "\n",
        "axs[1,1].hist(df['loan_amnt'], density = True)\n",
        "axs[1,1].set_title('loan_amnt')\n",
        "axs[1,1].set_ylabel('density')\n",
        "\n",
        "axs[2,0].hist(df['loan_int_rate'], density = True)\n",
        "axs[2,0].set_title('loan_int_rate')\n",
        "axs[2,0].set_ylabel('density')\n",
        "\n",
        "axs[2,1].hist(df['loan_percent_income'], density = True)\n",
        "axs[2,1].set_title('loan_percent_income')\n",
        "axs[2,1].set_ylabel('density')\n",
        "\n",
        "axs[3,0].hist(df['cb_person_cred_hist_length'], density = True)\n",
        "axs[3,0].set_title('cb_person_cred_hist_length')\n",
        "axs[3,0].set_ylabel('density')\n",
        "\n",
        "plt.show()"
      ]
    },
    {
      "cell_type": "markdown",
      "metadata": {
        "id": "X3GhX7qJoLR1"
      },
      "source": [
        "person_age, person_income, and person_emp_length need to be further cleaned.\n",
        "\n",
        "Remove Outliers"
      ]
    },
    {
      "cell_type": "code",
      "execution_count": null,
      "metadata": {
        "colab": {
          "base_uri": "https://localhost:8080/"
        },
        "id": "RxbYfnBRodwz",
        "outputId": "a1473a0e-2e53-4306-a930-19304b1fda79"
      },
      "outputs": [
        {
          "name": "stdout",
          "output_type": "stream",
          "text": [
            "0.00021484914520732943\n",
            "0.0002762346152665664\n",
            "6.138547005923697e-05\n"
          ]
        }
      ],
      "source": [
        "# Remove Outliers\n",
        "print(len(df[df['person_age']>80]) / len(df))\n",
        "print(len(df[df['person_income']>1000000]) / len(df))\n",
        "print(len(df[df['person_emp_length']>60]) / len(df))"
      ]
    },
    {
      "cell_type": "code",
      "execution_count": null,
      "metadata": {
        "colab": {
          "base_uri": "https://localhost:8080/"
        },
        "id": "Y8nziZCJ1mQN",
        "outputId": "426b2f83-3d50-4a0d-a697-15fe1abf62d4"
      },
      "outputs": [
        {
          "data": {
            "text/plain": [
              "32564"
            ]
          },
          "execution_count": 10,
          "metadata": {},
          "output_type": "execute_result"
        }
      ],
      "source": [
        "df = df[df['person_age']<=80]\n",
        "df = df[df['person_income']<=1000000]\n",
        "df = df[df['person_emp_length']<=60]\n",
        "\n",
        "len(df)"
      ]
    },
    {
      "cell_type": "code",
      "execution_count": null,
      "metadata": {
        "colab": {
          "base_uri": "https://localhost:8080/",
          "height": 967
        },
        "id": "dcpyZ1jC3TxP",
        "outputId": "e49e8ffb-1b41-4678-e76f-a16add671dfd"
      },
      "outputs": [
        {
          "data": {
            "image/png": "[encoded data removed]",
            "text/plain": [
              "<Figure size 864x1152 with 8 Axes>"
            ]
          },
          "metadata": {},
          "output_type": "display_data"
        }
      ],
      "source": [
        "\n",
        "fig, axs = plt.subplots(4,2,figsize =(12,16),tight_layout = True)\n",
        "\n",
        "axs[0,0].hist(df['person_age'],density = True)\n",
        "axs[0,0].set_title('person_age')\n",
        "axs[0,0].set_ylabel('density')\n",
        "\n",
        "axs[0,1].hist(df['person_income'], density = True)\n",
        "axs[0,1].set_title('person_income')\n",
        "axs[0,1].set_ylabel('density')\n",
        "\n",
        "axs[1,0].hist(df['person_emp_length'], density = True)\n",
        "axs[1,0].set_title('person_emp_length')\n",
        "axs[1,0].set_ylabel('density')\n",
        "\n",
        "axs[1,1].hist(df['loan_amnt'], density = True)\n",
        "axs[1,1].set_title('loan_amnt')\n",
        "axs[1,1].set_ylabel('density')\n",
        "\n",
        "axs[2,0].hist(df['loan_int_rate'], density = True)\n",
        "axs[2,0].set_title('loan_int_rate')\n",
        "axs[2,0].set_ylabel('density')\n",
        "\n",
        "axs[2,1].hist(df['loan_percent_income'], density = True)\n",
        "axs[2,1].set_title('loan_percent_income')\n",
        "axs[2,1].set_ylabel('density')\n",
        "\n",
        "axs[3,0].hist(df['cb_person_cred_hist_length'], density = True)\n",
        "axs[3,0].set_title('cb_person_cred_hist_length')\n",
        "axs[3,0].set_ylabel('density')\n",
        "\n",
        "plt.show()"
      ]
    },
    {
      "cell_type": "code",
      "execution_count": null,
      "metadata": {
        "colab": {
          "base_uri": "https://localhost:8080/",
          "height": 364
        },
        "id": "aruIzxL63pB2",
        "outputId": "f7aaf95c-179e-431d-bc41-9f7580ea3cd2"
      },
      "outputs": [
        {
          "data": {
            "text/html": [
              "\n",
              "  <div id=\"df-c292ad6c-7684-4cfc-b545-3b0961633493\">\n",
              "    <div class=\"colab-df-container\">\n",
              "      <div>\n",
              "<style scoped>\n",
              "    .dataframe tbody tr th:only-of-type {\n",
              "        vertical-align: middle;\n",
              "    }\n",
              "\n",
              "    .dataframe tbody tr th {\n",
              "        vertical-align: top;\n",
              "    }\n",
              "\n",
              "    .dataframe thead th {\n",
              "        text-align: right;\n",
              "    }\n",
              "</style>\n",
              "<table border=\"1\" class=\"dataframe\">\n",
              "  <thead>\n",
              "    <tr style=\"text-align: right;\">\n",
              "      <th></th>\n",
              "      <th>person_age</th>\n",
              "      <th>person_income</th>\n",
              "      <th>person_emp_length</th>\n",
              "      <th>loan_amnt</th>\n",
              "      <th>loan_int_rate</th>\n",
              "      <th>loan_status</th>\n",
              "      <th>loan_percent_income</th>\n",
              "      <th>cb_person_cred_hist_length</th>\n",
              "    </tr>\n",
              "  </thead>\n",
              "  <tbody>\n",
              "    <tr>\n",
              "      <th>count</th>\n",
              "      <td>32564.000000</td>\n",
              "      <td>32564.000000</td>\n",
              "      <td>32564.000000</td>\n",
              "      <td>32564.000000</td>\n",
              "      <td>32564.000000</td>\n",
              "      <td>32564.000000</td>\n",
              "      <td>32564.000000</td>\n",
              "      <td>32564.00000</td>\n",
              "    </tr>\n",
              "    <tr>\n",
              "      <th>mean</th>\n",
              "      <td>27.710294</td>\n",
              "      <td>65522.756725</td>\n",
              "      <td>4.773124</td>\n",
              "      <td>9588.398999</td>\n",
              "      <td>11.011269</td>\n",
              "      <td>0.218247</td>\n",
              "      <td>0.170241</td>\n",
              "      <td>5.80024</td>\n",
              "    </tr>\n",
              "    <tr>\n",
              "      <th>std</th>\n",
              "      <td>6.178842</td>\n",
              "      <td>47103.778618</td>\n",
              "      <td>4.025782</td>\n",
              "      <td>6320.958590</td>\n",
              "      <td>3.244507</td>\n",
              "      <td>0.413062</td>\n",
              "      <td>0.106738</td>\n",
              "      <td>4.04681</td>\n",
              "    </tr>\n",
              "    <tr>\n",
              "      <th>min</th>\n",
              "      <td>20.000000</td>\n",
              "      <td>4000.000000</td>\n",
              "      <td>0.000000</td>\n",
              "      <td>500.000000</td>\n",
              "      <td>5.420000</td>\n",
              "      <td>0.000000</td>\n",
              "      <td>0.000000</td>\n",
              "      <td>2.00000</td>\n",
              "    </tr>\n",
              "    <tr>\n",
              "      <th>25%</th>\n",
              "      <td>23.000000</td>\n",
              "      <td>38500.000000</td>\n",
              "      <td>2.000000</td>\n",
              "      <td>5000.000000</td>\n",
              "      <td>7.900000</td>\n",
              "      <td>0.000000</td>\n",
              "      <td>0.090000</td>\n",
              "      <td>3.00000</td>\n",
              "    </tr>\n",
              "    <tr>\n",
              "      <th>50%</th>\n",
              "      <td>26.000000</td>\n",
              "      <td>55000.000000</td>\n",
              "      <td>4.000000</td>\n",
              "      <td>8000.000000</td>\n",
              "      <td>10.990000</td>\n",
              "      <td>0.000000</td>\n",
              "      <td>0.150000</td>\n",
              "      <td>4.00000</td>\n",
              "    </tr>\n",
              "    <tr>\n",
              "      <th>75%</th>\n",
              "      <td>30.000000</td>\n",
              "      <td>79200.000000</td>\n",
              "      <td>7.000000</td>\n",
              "      <td>12200.000000</td>\n",
              "      <td>13.470000</td>\n",
              "      <td>0.000000</td>\n",
              "      <td>0.230000</td>\n",
              "      <td>8.00000</td>\n",
              "    </tr>\n",
              "    <tr>\n",
              "      <th>max</th>\n",
              "      <td>80.000000</td>\n",
              "      <td>948000.000000</td>\n",
              "      <td>41.000000</td>\n",
              "      <td>35000.000000</td>\n",
              "      <td>23.220000</td>\n",
              "      <td>1.000000</td>\n",
              "      <td>0.830000</td>\n",
              "      <td>30.00000</td>\n",
              "    </tr>\n",
              "  </tbody>\n",
              "</table>\n",
              "</div>\n",
              "      <button class=\"colab-df-convert\" onclick=\"convertToInteractive('df-c292ad6c-7684-4cfc-b545-3b0961633493')\"\n",
              "              title=\"Convert this dataframe to an interactive table.\"\n",
              "              style=\"display:none;\">\n",
              "        \n",
              "  <svg xmlns=\"http://www.w3.org/2000/svg\" height=\"24px\"viewBox=\"0 0 24 24\"\n",
              "       width=\"24px\">\n",
              "    <path d=\"M0 0h24v24H0V0z\" fill=\"none\"/>\n",
              "    <path d=\"M18.56 5.44l.94 2.06.94-2.06 2.06-.94-2.06-.94-.94-2.06-.94 2.06-2.06.94zm-11 1L8.5 8.5l.94-2.06 2.06-.94-2.06-.94L8.5 2.5l-.94 2.06-2.06.94zm10 10l.94 2.06.94-2.06 2.06-.94-2.06-.94-.94-2.06-.94 2.06-2.06.94z\"/><path d=\"M17.41 7.96l-1.37-1.37c-.4-.4-.92-.59-1.43-.59-.52 0-1.04.2-1.43.59L10.3 9.45l-7.72 7.72c-.78.78-.78 2.05 0 2.83L4 21.41c.39.39.9.59 1.41.59.51 0 1.02-.2 1.41-.59l7.78-7.78 2.81-2.81c.8-.78.8-2.07 0-2.86zM5.41 20L4 18.59l7.72-7.72 1.47 1.35L5.41 20z\"/>\n",
              "  </svg>\n",
              "      </button>\n",
              "      \n",
              "  <style>\n",
              "    .colab-df-container {\n",
              "      display:flex;\n",
              "      flex-wrap:wrap;\n",
              "      gap: 12px;\n",
              "    }\n",
              "\n",
              "    .colab-df-convert {\n",
              "      background-color: #E8F0FE;\n",
              "      border: none;\n",
              "      border-radius: 50%;\n",
              "      cursor: pointer;\n",
              "      display: none;\n",
              "      fill: #1967D2;\n",
              "      height: 32px;\n",
              "      padding: 0 0 0 0;\n",
              "      width: 32px;\n",
              "    }\n",
              "\n",
              "    .colab-df-convert:hover {\n",
              "      background-color: #E2EBFA;\n",
              "      box-shadow: 0px 1px 2px rgba(60, 64, 67, 0.3), 0px 1px 3px 1px rgba(60, 64, 67, 0.15);\n",
              "      fill: #174EA6;\n",
              "    }\n",
              "\n",
              "    [theme=dark] .colab-df-convert {\n",
              "      background-color: #3B4455;\n",
              "      fill: #D2E3FC;\n",
              "    }\n",
              "\n",
              "    [theme=dark] .colab-df-convert:hover {\n",
              "      background-color: #434B5C;\n",
              "      box-shadow: 0px 1px 3px 1px rgba(0, 0, 0, 0.15);\n",
              "      filter: drop-shadow(0px 1px 2px rgba(0, 0, 0, 0.3));\n",
              "      fill: #FFFFFF;\n",
              "    }\n",
              "  </style>\n",
              "\n",
              "      <script>\n",
              "        const buttonEl =\n",
              "          document.querySelector('#df-c292ad6c-7684-4cfc-b545-3b0961633493 button.colab-df-convert');\n",
              "        buttonEl.style.display =\n",
              "          google.colab.kernel.accessAllowed ? 'block' : 'none';\n",
              "\n",
              "        async function convertToInteractive(key) {\n",
              "          const element = document.querySelector('#df-c292ad6c-7684-4cfc-b545-3b0961633493');\n",
              "          const dataTable =\n",
              "            await google.colab.kernel.invokeFunction('convertToInteractive',\n",
              "                                                     [key], {});\n",
              "          if (!dataTable) return;\n",
              "\n",
              "          const docLinkHtml = 'Like what you see? Visit the ' +\n",
              "            '<a target=\"_blank\" href=https://colab.research.google.com/notebooks/data_table.ipynb>data table notebook</a>'\n",
              "            + ' to learn more about interactive tables.';\n",
              "          element.innerHTML = '';\n",
              "          dataTable['output_type'] = 'display_data';\n",
              "          await google.colab.output.renderOutput(dataTable, element);\n",
              "          const docLink = document.createElement('div');\n",
              "          docLink.innerHTML = docLinkHtml;\n",
              "          element.appendChild(docLink);\n",
              "        }\n",
              "      </script>\n",
              "    </div>\n",
              "  </div>\n",
              "  "
            ],
            "text/plain": [
              "         person_age  person_income  person_emp_length     loan_amnt  \\\n",
              "count  32564.000000   32564.000000       32564.000000  32564.000000   \n",
              "mean      27.710294   65522.756725           4.773124   9588.398999   \n",
              "std        6.178842   47103.778618           4.025782   6320.958590   \n",
              "min       20.000000    4000.000000           0.000000    500.000000   \n",
              "25%       23.000000   38500.000000           2.000000   5000.000000   \n",
              "50%       26.000000   55000.000000           4.000000   8000.000000   \n",
              "75%       30.000000   79200.000000           7.000000  12200.000000   \n",
              "max       80.000000  948000.000000          41.000000  35000.000000   \n",
              "\n",
              "       loan_int_rate   loan_status  loan_percent_income  \\\n",
              "count   32564.000000  32564.000000         32564.000000   \n",
              "mean       11.011269      0.218247             0.170241   \n",
              "std         3.244507      0.413062             0.106738   \n",
              "min         5.420000      0.000000             0.000000   \n",
              "25%         7.900000      0.000000             0.090000   \n",
              "50%        10.990000      0.000000             0.150000   \n",
              "75%        13.470000      0.000000             0.230000   \n",
              "max        23.220000      1.000000             0.830000   \n",
              "\n",
              "       cb_person_cred_hist_length  \n",
              "count                 32564.00000  \n",
              "mean                      5.80024  \n",
              "std                       4.04681  \n",
              "min                       2.00000  \n",
              "25%                       3.00000  \n",
              "50%                       4.00000  \n",
              "75%                       8.00000  \n",
              "max                      30.00000  "
            ]
          },
          "execution_count": 12,
          "metadata": {},
          "output_type": "execute_result"
        }
      ],
      "source": [
        "df.describe()"
      ]
    },
    {
      "cell_type": "markdown",
      "metadata": {
        "id": "WrUD8D9Rhkr0"
      },
      "source": [
        "## Feature Transfer"
      ]
    },
    {
      "cell_type": "code",
      "execution_count": null,
      "metadata": {
        "colab": {
          "base_uri": "https://localhost:8080/"
        },
        "id": "pfW0O1SL9VWH",
        "outputId": "757e5145-db7a-45bc-ee04-87c6cf10f23e"
      },
      "outputs": [
        {
          "data": {
            "text/plain": [
              "{'A', 'B', 'C', 'D', 'E', 'F', 'G'}"
            ]
          },
          "execution_count": 13,
          "metadata": {},
          "output_type": "execute_result"
        }
      ],
      "source": [
        "set(df['loan_grade'])"
      ]
    },
    {
      "cell_type": "code",
      "execution_count": null,
      "metadata": {
        "colab": {
          "base_uri": "https://localhost:8080/",
          "height": 299
        },
        "id": "paY7f9YH4pFW",
        "outputId": "148a2edc-82f8-4a5f-ee3a-276601b225e3"
      },
      "outputs": [
        {
          "data": {
            "text/html": [
              "\n",
              "  <div id=\"df-50942545-8ca6-47bb-b707-2dc3f683b210\">\n",
              "    <div class=\"colab-df-container\">\n",
              "      <div>\n",
              "<style scoped>\n",
              "    .dataframe tbody tr th:only-of-type {\n",
              "        vertical-align: middle;\n",
              "    }\n",
              "\n",
              "    .dataframe tbody tr th {\n",
              "        vertical-align: top;\n",
              "    }\n",
              "\n",
              "    .dataframe thead th {\n",
              "        text-align: right;\n",
              "    }\n",
              "</style>\n",
              "<table border=\"1\" class=\"dataframe\">\n",
              "  <thead>\n",
              "    <tr style=\"text-align: right;\">\n",
              "      <th></th>\n",
              "      <th>person_age</th>\n",
              "      <th>person_income</th>\n",
              "      <th>person_home_ownership</th>\n",
              "      <th>person_emp_length</th>\n",
              "      <th>loan_intent</th>\n",
              "      <th>loan_grade</th>\n",
              "      <th>loan_amnt</th>\n",
              "      <th>loan_int_rate</th>\n",
              "      <th>loan_status</th>\n",
              "      <th>loan_percent_income</th>\n",
              "      <th>...</th>\n",
              "      <th>debt_consolidation</th>\n",
              "      <th>loan_grade_A</th>\n",
              "      <th>loan_grade_B</th>\n",
              "      <th>loan_grade_C</th>\n",
              "      <th>loan_grade_D</th>\n",
              "      <th>loan_grade_E</th>\n",
              "      <th>loan_grade_F</th>\n",
              "      <th>loan_grade_G</th>\n",
              "      <th>hist_default_Y</th>\n",
              "      <th>hist_default_N</th>\n",
              "    </tr>\n",
              "  </thead>\n",
              "  <tbody>\n",
              "    <tr>\n",
              "      <th>1</th>\n",
              "      <td>21</td>\n",
              "      <td>9600</td>\n",
              "      <td>OWN</td>\n",
              "      <td>5.0</td>\n",
              "      <td>EDUCATION</td>\n",
              "      <td>B</td>\n",
              "      <td>1000</td>\n",
              "      <td>11.14</td>\n",
              "      <td>0</td>\n",
              "      <td>0.10</td>\n",
              "      <td>...</td>\n",
              "      <td>0</td>\n",
              "      <td>0</td>\n",
              "      <td>1</td>\n",
              "      <td>0</td>\n",
              "      <td>0</td>\n",
              "      <td>0</td>\n",
              "      <td>0</td>\n",
              "      <td>0</td>\n",
              "      <td>0</td>\n",
              "      <td>1</td>\n",
              "    </tr>\n",
              "    <tr>\n",
              "      <th>2</th>\n",
              "      <td>25</td>\n",
              "      <td>9600</td>\n",
              "      <td>MORTGAGE</td>\n",
              "      <td>1.0</td>\n",
              "      <td>MEDICAL</td>\n",
              "      <td>C</td>\n",
              "      <td>5500</td>\n",
              "      <td>12.87</td>\n",
              "      <td>1</td>\n",
              "      <td>0.57</td>\n",
              "      <td>...</td>\n",
              "      <td>0</td>\n",
              "      <td>0</td>\n",
              "      <td>0</td>\n",
              "      <td>1</td>\n",
              "      <td>0</td>\n",
              "      <td>0</td>\n",
              "      <td>0</td>\n",
              "      <td>0</td>\n",
              "      <td>0</td>\n",
              "      <td>1</td>\n",
              "    </tr>\n",
              "    <tr>\n",
              "      <th>3</th>\n",
              "      <td>23</td>\n",
              "      <td>65500</td>\n",
              "      <td>RENT</td>\n",
              "      <td>4.0</td>\n",
              "      <td>MEDICAL</td>\n",
              "      <td>C</td>\n",
              "      <td>35000</td>\n",
              "      <td>15.23</td>\n",
              "      <td>1</td>\n",
              "      <td>0.53</td>\n",
              "      <td>...</td>\n",
              "      <td>0</td>\n",
              "      <td>0</td>\n",
              "      <td>0</td>\n",
              "      <td>1</td>\n",
              "      <td>0</td>\n",
              "      <td>0</td>\n",
              "      <td>0</td>\n",
              "      <td>0</td>\n",
              "      <td>0</td>\n",
              "      <td>1</td>\n",
              "    </tr>\n",
              "    <tr>\n",
              "      <th>4</th>\n",
              "      <td>24</td>\n",
              "      <td>54400</td>\n",
              "      <td>RENT</td>\n",
              "      <td>8.0</td>\n",
              "      <td>MEDICAL</td>\n",
              "      <td>C</td>\n",
              "      <td>35000</td>\n",
              "      <td>14.27</td>\n",
              "      <td>1</td>\n",
              "      <td>0.55</td>\n",
              "      <td>...</td>\n",
              "      <td>0</td>\n",
              "      <td>0</td>\n",
              "      <td>0</td>\n",
              "      <td>1</td>\n",
              "      <td>0</td>\n",
              "      <td>0</td>\n",
              "      <td>0</td>\n",
              "      <td>0</td>\n",
              "      <td>1</td>\n",
              "      <td>0</td>\n",
              "    </tr>\n",
              "    <tr>\n",
              "      <th>5</th>\n",
              "      <td>21</td>\n",
              "      <td>9900</td>\n",
              "      <td>OWN</td>\n",
              "      <td>2.0</td>\n",
              "      <td>VENTURE</td>\n",
              "      <td>A</td>\n",
              "      <td>2500</td>\n",
              "      <td>7.14</td>\n",
              "      <td>1</td>\n",
              "      <td>0.25</td>\n",
              "      <td>...</td>\n",
              "      <td>0</td>\n",
              "      <td>1</td>\n",
              "      <td>0</td>\n",
              "      <td>0</td>\n",
              "      <td>0</td>\n",
              "      <td>0</td>\n",
              "      <td>0</td>\n",
              "      <td>0</td>\n",
              "      <td>0</td>\n",
              "      <td>1</td>\n",
              "    </tr>\n",
              "  </tbody>\n",
              "</table>\n",
              "<p>5 rows × 31 columns</p>\n",
              "</div>\n",
              "      <button class=\"colab-df-convert\" onclick=\"convertToInteractive('df-50942545-8ca6-47bb-b707-2dc3f683b210')\"\n",
              "              title=\"Convert this dataframe to an interactive table.\"\n",
              "              style=\"display:none;\">\n",
              "        \n",
              "  <svg xmlns=\"http://www.w3.org/2000/svg\" height=\"24px\"viewBox=\"0 0 24 24\"\n",
              "       width=\"24px\">\n",
              "    <path d=\"M0 0h24v24H0V0z\" fill=\"none\"/>\n",
              "    <path d=\"M18.56 5.44l.94 2.06.94-2.06 2.06-.94-2.06-.94-.94-2.06-.94 2.06-2.06.94zm-11 1L8.5 8.5l.94-2.06 2.06-.94-2.06-.94L8.5 2.5l-.94 2.06-2.06.94zm10 10l.94 2.06.94-2.06 2.06-.94-2.06-.94-.94-2.06-.94 2.06-2.06.94z\"/><path d=\"M17.41 7.96l-1.37-1.37c-.4-.4-.92-.59-1.43-.59-.52 0-1.04.2-1.43.59L10.3 9.45l-7.72 7.72c-.78.78-.78 2.05 0 2.83L4 21.41c.39.39.9.59 1.41.59.51 0 1.02-.2 1.41-.59l7.78-7.78 2.81-2.81c.8-.78.8-2.07 0-2.86zM5.41 20L4 18.59l7.72-7.72 1.47 1.35L5.41 20z\"/>\n",
              "  </svg>\n",
              "      </button>\n",
              "      \n",
              "  <style>\n",
              "    .colab-df-container {\n",
              "      display:flex;\n",
              "      flex-wrap:wrap;\n",
              "      gap: 12px;\n",
              "    }\n",
              "\n",
              "    .colab-df-convert {\n",
              "      background-color: #E8F0FE;\n",
              "      border: none;\n",
              "      border-radius: 50%;\n",
              "      cursor: pointer;\n",
              "      display: none;\n",
              "      fill: #1967D2;\n",
              "      height: 32px;\n",
              "      padding: 0 0 0 0;\n",
              "      width: 32px;\n",
              "    }\n",
              "\n",
              "    .colab-df-convert:hover {\n",
              "      background-color: #E2EBFA;\n",
              "      box-shadow: 0px 1px 2px rgba(60, 64, 67, 0.3), 0px 1px 3px 1px rgba(60, 64, 67, 0.15);\n",
              "      fill: #174EA6;\n",
              "    }\n",
              "\n",
              "    [theme=dark] .colab-df-convert {\n",
              "      background-color: #3B4455;\n",
              "      fill: #D2E3FC;\n",
              "    }\n",
              "\n",
              "    [theme=dark] .colab-df-convert:hover {\n",
              "      background-color: #434B5C;\n",
              "      box-shadow: 0px 1px 3px 1px rgba(0, 0, 0, 0.15);\n",
              "      filter: drop-shadow(0px 1px 2px rgba(0, 0, 0, 0.3));\n",
              "      fill: #FFFFFF;\n",
              "    }\n",
              "  </style>\n",
              "\n",
              "      <script>\n",
              "        const buttonEl =\n",
              "          document.querySelector('#df-50942545-8ca6-47bb-b707-2dc3f683b210 button.colab-df-convert');\n",
              "        buttonEl.style.display =\n",
              "          google.colab.kernel.accessAllowed ? 'block' : 'none';\n",
              "\n",
              "        async function convertToInteractive(key) {\n",
              "          const element = document.querySelector('#df-50942545-8ca6-47bb-b707-2dc3f683b210');\n",
              "          const dataTable =\n",
              "            await google.colab.kernel.invokeFunction('convertToInteractive',\n",
              "                                                     [key], {});\n",
              "          if (!dataTable) return;\n",
              "\n",
              "          const docLinkHtml = 'Like what you see? Visit the ' +\n",
              "            '<a target=\"_blank\" href=https://colab.research.google.com/notebooks/data_table.ipynb>data table notebook</a>'\n",
              "            + ' to learn more about interactive tables.';\n",
              "          element.innerHTML = '';\n",
              "          dataTable['output_type'] = 'display_data';\n",
              "          await google.colab.output.renderOutput(dataTable, element);\n",
              "          const docLink = document.createElement('div');\n",
              "          docLink.innerHTML = docLinkHtml;\n",
              "          element.appendChild(docLink);\n",
              "        }\n",
              "      </script>\n",
              "    </div>\n",
              "  </div>\n",
              "  "
            ],
            "text/plain": [
              "   person_age  person_income person_home_ownership  person_emp_length  \\\n",
              "1          21           9600                   OWN                5.0   \n",
              "2          25           9600              MORTGAGE                1.0   \n",
              "3          23          65500                  RENT                4.0   \n",
              "4          24          54400                  RENT                8.0   \n",
              "5          21           9900                   OWN                2.0   \n",
              "\n",
              "  loan_intent loan_grade  loan_amnt  loan_int_rate  loan_status  \\\n",
              "1   EDUCATION          B       1000          11.14            0   \n",
              "2     MEDICAL          C       5500          12.87            1   \n",
              "3     MEDICAL          C      35000          15.23            1   \n",
              "4     MEDICAL          C      35000          14.27            1   \n",
              "5     VENTURE          A       2500           7.14            1   \n",
              "\n",
              "   loan_percent_income  ... debt_consolidation  loan_grade_A  loan_grade_B  \\\n",
              "1                 0.10  ...                  0             0             1   \n",
              "2                 0.57  ...                  0             0             0   \n",
              "3                 0.53  ...                  0             0             0   \n",
              "4                 0.55  ...                  0             0             0   \n",
              "5                 0.25  ...                  0             1             0   \n",
              "\n",
              "   loan_grade_C  loan_grade_D  loan_grade_E  loan_grade_F  loan_grade_G  \\\n",
              "1             0             0             0             0             0   \n",
              "2             1             0             0             0             0   \n",
              "3             1             0             0             0             0   \n",
              "4             1             0             0             0             0   \n",
              "5             0             0             0             0             0   \n",
              "\n",
              "   hist_default_Y  hist_default_N  \n",
              "1               0               1  \n",
              "2               0               1  \n",
              "3               0               1  \n",
              "4               1               0  \n",
              "5               0               1  \n",
              "\n",
              "[5 rows x 31 columns]"
            ]
          },
          "execution_count": 14,
          "metadata": {},
          "output_type": "execute_result"
        }
      ],
      "source": [
        "df['rent'] = np.where(df['person_home_ownership'] == 'RENT',1,0)\n",
        "df['own'] = np.where(df['person_home_ownership'] == 'OWN',1,0)\n",
        "df['mortgage'] = np.where(df['person_home_ownership'] == 'MORTGAGE',1,0)\n",
        "df['other'] = np.where(df['person_home_ownership'] == 'OTHER',1,0)\n",
        "\n",
        "df['personal'] = np.where(df['loan_intent'] == 'PERSONAL',1,0)\n",
        "df['education'] = np.where(df['loan_intent'] == 'EDUCATION',1,0)\n",
        "df['venture'] = np.where(df['loan_intent'] == 'VENTURE',1,0)\n",
        "df['medical'] = np.where(df['loan_intent'] == 'MEDICAL',1,0)\n",
        "df['home_improvement'] = np.where(df['loan_intent'] == 'HOMEIMPROVEMENT',1,0)\n",
        "df['debt_consolidation'] = np.where(df['loan_intent'] == 'DEBTCONSOLIDATION',1,0)\n",
        "\n",
        "df['loan_grade_A'] = np.where(df['loan_grade'] == 'A',1,0)\n",
        "df['loan_grade_B'] = np.where(df['loan_grade'] == 'B',1,0)\n",
        "df['loan_grade_C'] = np.where(df['loan_grade'] == 'C',1,0)\n",
        "df['loan_grade_D'] = np.where(df['loan_grade'] == 'D',1,0)\n",
        "df['loan_grade_E'] = np.where(df['loan_grade'] == 'E',1,0)\n",
        "df['loan_grade_F'] = np.where(df['loan_grade'] == 'F',1,0)\n",
        "df['loan_grade_G'] = np.where(df['loan_grade'] == 'G',1,0)\n",
        "\n",
        "df['hist_default_Y'] = np.where(df['cb_person_default_on_file'] == 'Y',1,0)\n",
        "df['hist_default_N'] = np.where(df['cb_person_default_on_file'] == 'N',1,0)\n",
        "\n",
        "df.head()\n"
      ]
    },
    {
      "cell_type": "code",
      "execution_count": null,
      "metadata": {
        "colab": {
          "base_uri": "https://localhost:8080/"
        },
        "id": "3u-3gfeIm9S-",
        "outputId": "ccacd006-a47e-4638-b99d-d06838b12f5e"
      },
      "outputs": [
        {
          "data": {
            "text/plain": [
              "Index(['person_age', 'person_income', 'person_home_ownership',\n",
              "       'person_emp_length', 'loan_intent', 'loan_grade', 'loan_amnt',\n",
              "       'loan_int_rate', 'loan_status', 'loan_percent_income',\n",
              "       'cb_person_default_on_file', 'cb_person_cred_hist_length', 'rent',\n",
              "       'own', 'mortgage', 'other', 'personal', 'education', 'venture',\n",
              "       'medical', 'home_improvement', 'debt_consolidation', 'loan_grade_A',\n",
              "       'loan_grade_B', 'loan_grade_C', 'loan_grade_D', 'loan_grade_E',\n",
              "       'loan_grade_F', 'loan_grade_G', 'hist_default_Y', 'hist_default_N'],\n",
              "      dtype='object')"
            ]
          },
          "execution_count": 15,
          "metadata": {},
          "output_type": "execute_result"
        }
      ],
      "source": [
        "df.columns"
      ]
    },
    {
      "cell_type": "markdown",
      "metadata": {
        "id": "hFOgrdiJkNh-"
      },
      "source": [
        "Data processing and cross validation"
      ]
    },
    {
      "cell_type": "code",
      "execution_count": null,
      "metadata": {
        "colab": {
          "base_uri": "https://localhost:8080/"
        },
        "id": "4sAb4bZZkSrA",
        "outputId": "fea2c91c-0cd6-4eaf-d883-3180c23a801d"
      },
      "outputs": [
        {
          "data": {
            "text/plain": [
              "0    25457\n",
              "1     7107\n",
              "Name: loan_status, dtype: int64"
            ]
          },
          "execution_count": 16,
          "metadata": {},
          "output_type": "execute_result"
        }
      ],
      "source": [
        "data_x = df[['person_age', 'person_income', 'person_emp_length', 'loan_amnt',\n",
        "       'loan_int_rate', 'loan_percent_income', 'cb_person_cred_hist_length', \n",
        "       'rent','own', 'mortgage', 'other', 'personal', 'education', 'venture', 'medical',\n",
        "       'home_improvement', 'debt_consolidation', 'loan_grade_A',\n",
        "       'loan_grade_B', 'loan_grade_C', 'loan_grade_D', 'loan_grade_E',\n",
        "       'loan_grade_F', 'loan_grade_G', 'hist_default_Y', 'hist_default_N']] \n",
        "data_y = df['loan_status']\n",
        "data_y.value_counts() \n"
      ]
    },
    {
      "cell_type": "code",
      "execution_count": null,
      "metadata": {
        "id": "TjE1sRRG88bc"
      },
      "outputs": [],
      "source": [
        "# here need to split the data into training and testing sets\n",
        "from sklearn import model_selection\n",
        "\n",
        "x_train_val, x_test, y_train_val, y_test = model_selection.train_test_split(data_x,data_y,random_state = 42, test_size = 0.1)\n"
      ]
    },
    {
      "cell_type": "code",
      "execution_count": null,
      "metadata": {
        "id": "j526QBglNyLZ"
      },
      "outputs": [],
      "source": [
        "# define a function to set k-fold df\n",
        "def k_fold(k,i,x_train_val, y_train_val):\n",
        "    skf = StratifiedKFold(n_splits=k)\n",
        "    for j,(train_index, val_index) in enumerate(skf.split(x_train_val, y_train_val)):\n",
        "        if i == j:\n",
        "            train_x = x_train_val.iloc[train_index]\n",
        "            train_y = y_train_val.iloc[train_index]\n",
        "            val_x = x_train_val.iloc[val_index]\n",
        "            val_y = y_train_val.iloc[val_index]\n",
        "    return train_x, train_y, val_x, val_y"
      ]
    },
    {
      "cell_type": "code",
      "execution_count": null,
      "metadata": {
        "id": "u0kiOYTbN0xx"
      },
      "outputs": [],
      "source": [
        "# split test data and val data\n",
        "train_x_1, train_y_1, val_x_1, val_y_1 = k_fold(3,0,x_train_val,y_train_val)\n",
        "train_x_2, train_y_2, val_x_2, val_y_2 = k_fold(3,1,x_train_val,y_train_val)\n",
        "train_x_3, train_y_3, val_x_3, val_y_3 = k_fold(3,2,x_train_val,y_train_val)\n",
        "\n",
        "#feature scaling\n",
        "from sklearn.preprocessing import StandardScaler\n",
        "sc = StandardScaler()\n",
        "\n",
        "train_x_1 = sc.fit_transform(train_x_1)\n",
        "val_x_1 = sc.fit_transform(val_x_1)\n",
        "train_x_2 = sc.fit_transform(train_x_2)\n",
        "val_x_2 = sc.fit_transform(val_x_2)\n",
        "train_x_3 = sc.fit_transform(train_x_3)\n",
        "val_x_3 = sc.fit_transform(val_x_3)\n",
        "\n",
        "train_x = [train_x_1,train_x_2,train_x_3] # use in validation stage\n",
        "train_y = [train_y_1,train_y_2,train_y_3]\n",
        "val_x = [val_x_1,val_x_2,val_x_3]\n",
        "val_y = [val_y_1,val_y_2,val_y_3]"
      ]
    },
    {
      "cell_type": "markdown",
      "metadata": {
        "id": "bnnXonHd9bkD"
      },
      "source": [
        "#Classification Tasks"
      ]
    },
    {
      "cell_type": "code",
      "execution_count": null,
      "metadata": {
        "id": "QU9fCovoqMbD"
      },
      "outputs": [],
      "source": [
        "def Average(l): \n",
        "    avg = sum(l) / len(l) \n",
        "    return avg\n"
      ]
    },
    {
      "cell_type": "markdown",
      "metadata": {
        "id": "Xwmd5TLxEy7y"
      },
      "source": [
        "## Perceptron"
      ]
    },
    {
      "cell_type": "code",
      "execution_count": null,
      "metadata": {
        "colab": {
          "base_uri": "https://localhost:8080/",
          "height": 1000
        },
        "id": "OPThTTldzpXi",
        "outputId": "5b9cbc28-4153-4234-fd28-48417f20da74"
      },
      "outputs": [
        {
          "name": "stdout",
          "output_type": "stream",
          "text": [
            "Hyperparameter training:\n",
            "iter =  100\n",
            "Accuracy of perceptron:  0.7758555976387894\n",
            "Precision of perceptron:  0.48439506372875124\n",
            "Recall of perceptron:  0.37760053027925267\n",
            "AUC of perceptron:  0.6324113160586157\n",
            "iter =  500\n",
            "Accuracy of perceptron:  0.7758555976387894\n",
            "Precision of perceptron:  0.48439506372875124\n",
            "Recall of perceptron:  0.37760053027925267\n",
            "AUC of perceptron:  0.6324113160586157\n",
            "iter =  1000\n",
            "Accuracy of perceptron:  0.7758555976387894\n",
            "Precision of perceptron:  0.48439506372875124\n",
            "Recall of perceptron:  0.37760053027925267\n",
            "AUC of perceptron:  0.6324113160586157\n",
            "iter =  10000\n",
            "Accuracy of perceptron:  0.7758555976387894\n",
            "Precision of perceptron:  0.48439506372875124\n",
            "Recall of perceptron:  0.37760053027925267\n",
            "AUC of perceptron:  0.6324113160586157\n",
            "iter =  100000\n",
            "Accuracy of perceptron:  0.7758555976387894\n",
            "Precision of perceptron:  0.48439506372875124\n",
            "Recall of perceptron:  0.37760053027925267\n",
            "AUC of perceptron:  0.6324113160586157\n"
          ]
        },
        {
          "data": {
            "image/png": "[encoded data removed]",
            "text/plain": [
              "<Figure size 432x288 with 1 Axes>"
            ]
          },
          "metadata": {},
          "output_type": "display_data"
        },
        {
          "data": {
            "image/png": "[encoded data removed]",
            "text/plain": [
              "<Figure size 432x288 with 1 Axes>"
            ]
          },
          "metadata": {},
          "output_type": "display_data"
        },
        {
          "data": {
            "image/png": "[encoded data removed]",
            "text/plain": [
              "<Figure size 432x288 with 1 Axes>"
            ]
          },
          "metadata": {},
          "output_type": "display_data"
        },
        {
          "data": {
            "image/png": "[encoded data removed]",
            "text/plain": [
              "<Figure size 432x288 with 1 Axes>"
            ]
          },
          "metadata": {},
          "output_type": "display_data"
        }
      ],
      "source": [
        "# perceptron\n",
        " \n",
        "\n",
        "def perceptron(iter,train_x, train_y,val_x,val_y) :                  \n",
        "  dic = {'accuracys':[], 'precisions':[], 'recalls':[],'AUCs':[]}\n",
        "  for i in range(3):\n",
        "    perceptron = sklearn.linear_model.Perceptron(max_iter=iter,random_state=0) #max_iter=iter\n",
        "    perceptron.fit(train_x[i], train_y[i])\n",
        "    dic['accuracys'].append(perceptron.score(val_x[i],val_y[i])) \n",
        "    dic['precisions'].append(precision_score(val_y[i], perceptron.predict(val_x[i])))\n",
        "    dic['recalls'].append(recall_score(val_y[i], perceptron.predict(val_x[i])))\n",
        "    dic['AUCs'].append(roc_auc_score(val_y[i], perceptron.predict(val_x[i])))\n",
        "\n",
        "  print(\"Accuracy of perceptron: \", Average(dic['accuracys']))\n",
        "  print(\"Precision of perceptron: \", Average(dic['precisions']))\n",
        "  print(\"Recall of perceptron: \", Average(dic['recalls']))\n",
        "  print(\"AUC of perceptron: \", Average(dic['AUCs']))\n",
        "  return (Average(dic['accuracys']), Average(dic['precisions']), Average(dic['recalls']) ,Average(dic['AUCs']))\n",
        "\n",
        "\n",
        "print(\"Hyperparameter training:\")\n",
        "iters = [100, 500, 1000, 10000, 100000]   \n",
        "accuracys = []\n",
        "precisions = []\n",
        "recalls = []\n",
        "AUCs = []\n",
        "for iter in iters:\n",
        "  print('iter = ', iter)\n",
        "  acc, preci, recall, auc = perceptron(iter,train_x, train_y,val_x,val_y)\n",
        "  accuracys.append(acc)\n",
        "  precisions.append(preci)\n",
        "  recalls.append(recall)\n",
        "  AUCs.append(auc)\n",
        "\n",
        "plt.plot(iters, accuracys)\n",
        "plt.xlabel('iteration')\n",
        "plt.ylabel('accuracy')\n",
        "plt.show()\n",
        "\n",
        "plt.plot(iters, precisions)\n",
        "plt.xlabel('iteration')\n",
        "plt.ylabel('precision')\n",
        "plt.show()\n",
        "\n",
        "plt.plot(iters, recalls)\n",
        "plt.xlabel('iteration')\n",
        "plt.ylabel('recall')\n",
        "plt.show()\n",
        "\n",
        "plt.plot(iters, AUCs)\n",
        "plt.xlabel('iteration')\n",
        "plt.ylabel('AUC')\n",
        "plt.show()\n"
      ]
    },
    {
      "cell_type": "code",
      "execution_count": null,
      "metadata": {
        "colab": {
          "base_uri": "https://localhost:8080/"
        },
        "id": "_yoTfDXOdDVO",
        "outputId": "471031bb-fc22-45cf-900a-f68b53760303"
      },
      "outputs": [
        {
          "name": "stdout",
          "output_type": "stream",
          "text": [
            "Performance measure on training data:\n",
            "Accuracy of perceptron:  0.7774422492919779\n",
            "Precision of perceptron:  0.4859927835727631\n",
            "Recall of perceptron:  0.3843571531888756\n",
            "AUC of perceptron:  0.6358536571952516\n"
          ]
        }
      ],
      "source": [
        "print(\"Performance measure on training data:\")\n",
        "\n",
        "dic = {'accuracys':[], 'precisions':[], 'recalls':[],'AUCs':[]}\n",
        "for i in range(3):\n",
        "  perceptron = sklearn.linear_model.Perceptron(random_state=0) #max_iter=iter\n",
        "  perceptron.fit(train_x[i], train_y[i])\n",
        "  dic['accuracys'].append(perceptron.score(train_x[i], train_y[i]))\n",
        "  dic['precisions'].append(precision_score(train_y[i], perceptron.predict(train_x[i])))\n",
        "  dic['recalls'].append(recall_score(train_y[i], perceptron.predict(train_x[i])))\n",
        "  dic['AUCs'].append(roc_auc_score(train_y[i], perceptron.predict(train_x[i])))\n",
        "\n",
        "print(\"Accuracy of perceptron: \", Average(dic['accuracys']))\n",
        "print(\"Precision of perceptron: \", Average(dic['precisions']))\n",
        "print(\"Recall of perceptron: \", Average(dic['recalls']))\n",
        "print(\"AUC of perceptron: \", Average(dic['AUCs']))\n"
      ]
    },
    {
      "cell_type": "markdown",
      "metadata": {
        "id": "fNXpYyb3E14b"
      },
      "source": [
        "## KNN"
      ]
    },
    {
      "cell_type": "code",
      "execution_count": null,
      "metadata": {
        "colab": {
          "base_uri": "https://localhost:8080/",
          "height": 1000
        },
        "id": "SwmBQ7jRzMMR",
        "outputId": "6985f07a-0182-4441-e16e-99b379b4b7be"
      },
      "outputs": [
        {
          "name": "stdout",
          "output_type": "stream",
          "text": [
            "Hyperparameter training:\n",
            "when k =  1\n",
            "Accuracy of perceptron:  0.8574743235404512\n",
            "Precision of perceptron:  0.6829929295470203\n",
            "Recall of perceptron:  0.6489705719889934\n",
            "AUC of perceptron:  0.7823728988104032\n",
            "when k =  2\n",
            "Accuracy of perceptron:  0.8822465622547515\n",
            "Precision of perceptron:  0.894933214372294\n",
            "Recall of perceptron:  0.5224868984882506\n",
            "AUC of perceptron:  0.7526638128937568\n",
            "when k =  3\n",
            "Accuracy of perceptron:  0.8856928378885591\n",
            "Precision of perceptron:  0.8107323936317226\n",
            "Recall of perceptron:  0.6221108450447642\n",
            "AUC of perceptron:  0.790752422529874\n",
            "when k =  5\n",
            "Accuracy of perceptron:  0.8940526154161121\n",
            "Precision of perceptron:  0.8606956310494779\n",
            "Recall of perceptron:  0.6147723888977903\n",
            "AUC of perceptron:  0.793457954781652\n",
            "when k =  10\n",
            "Accuracy of perceptron:  0.8933360630566076\n",
            "Precision of perceptron:  0.9133484225227345\n",
            "Recall of perceptron:  0.5657411654876586\n",
            "AUC of perceptron:  0.7753389012424496\n"
          ]
        },
        {
          "data": {
            "image/png": "[encoded data removed]",
            "text/plain": [
              "<Figure size 432x288 with 1 Axes>"
            ]
          },
          "metadata": {},
          "output_type": "display_data"
        },
        {
          "data": {
            "image/png": "[encoded data removed]",
            "text/plain": [
              "<Figure size 432x288 with 1 Axes>"
            ]
          },
          "metadata": {},
          "output_type": "display_data"
        },
        {
          "data": {
            "image/png": "[encoded data removed]",
            "text/plain": [
              "<Figure size 432x288 with 1 Axes>"
            ]
          },
          "metadata": {},
          "output_type": "display_data"
        },
        {
          "data": {
            "image/png": "[encoded data removed]",
            "text/plain": [
              "<Figure size 432x288 with 1 Axes>"
            ]
          },
          "metadata": {},
          "output_type": "display_data"
        }
      ],
      "source": [
        "# KNN\n",
        "def knn(k,train_x, train_y,val_x,val_y):\n",
        "  dic = {'accuracys':[], 'precisions':[], 'recalls':[],'AUCs':[]}\n",
        "  for i in range(3):\n",
        "    knn = sklearn.neighbors.KNeighborsClassifier(n_neighbors=k)\n",
        "    knn.fit(train_x[i], train_y[i])\n",
        "    dic['accuracys'].append(knn.score(val_x[i],val_y[i])) \n",
        "    dic['precisions'].append(precision_score(val_y[i], knn.predict(val_x[i])))\n",
        "    dic['recalls'].append(recall_score(val_y[i], knn.predict(val_x[i])))\n",
        "    dic['AUCs'].append(roc_auc_score(val_y[i], knn.predict(val_x[i])))\n",
        "\n",
        "  print(\"Accuracy of perceptron: \", Average(dic['accuracys']))\n",
        "  print(\"Precision of perceptron: \", Average(dic['precisions']))\n",
        "  print(\"Recall of perceptron: \", Average(dic['recalls']))\n",
        "  print(\"AUC of perceptron: \", Average(dic['AUCs']))\n",
        "  return Average(dic['accuracys']), Average(dic['precisions']), Average(dic['recalls']), Average(dic['AUCs'])\n",
        "\n",
        "print(\"Hyperparameter training:\")\n",
        "Ks = [1, 2, 3, 5,10]\n",
        "accuracys = []\n",
        "precisions = []\n",
        "recalls = []\n",
        "AUCs = []\n",
        "for k in Ks:\n",
        "  print(\"when k = \",k)\n",
        "  acc, preci, recall, auc = knn(k,train_x, train_y,val_x,val_y)\n",
        "  accuracys.append(acc)\n",
        "  precisions.append(preci)\n",
        "  recalls.append(recall)\n",
        "  AUCs.append(auc)\n",
        "plt.plot(Ks, accuracys)\n",
        "plt.xlabel('iteration')\n",
        "plt.ylabel('accuracy')\n",
        "plt.show()\n",
        "\n",
        "plt.plot(Ks, precisions)\n",
        "plt.xlabel('iteration')\n",
        "plt.ylabel('precision')\n",
        "plt.show()\n",
        "\n",
        "plt.plot(Ks, recalls)\n",
        "plt.xlabel('iteration')\n",
        "plt.ylabel('recall')\n",
        "plt.show()\n",
        "\n",
        "plt.plot(Ks, AUCs)\n",
        "plt.xlabel('iteration')\n",
        "plt.ylabel('AUC')\n",
        "plt.show()\n"
      ]
    },
    {
      "cell_type": "code",
      "execution_count": null,
      "metadata": {
        "colab": {
          "base_uri": "https://localhost:8080/"
        },
        "id": "SDjg3zBbdKZa",
        "outputId": "2bb10e75-2d4e-4f22-f0cc-78821d69aa4c"
      },
      "outputs": [
        {
          "name": "stdout",
          "output_type": "stream",
          "text": [
            "Performance measure on training data:\n",
            "Accuracy of perceptron:  0.9287371617702256\n",
            "Precision of perceptron:  0.92329750476528\n",
            "Recall of perceptron:  0.7349317712484883\n",
            "AUC of perceptron:  0.8589298871569362\n"
          ]
        }
      ],
      "source": [
        "print(\"Performance measure on training data:\")\n",
        "\n",
        "dic = {'accuracys':[], 'precisions':[], 'recalls':[],'AUCs':[]}\n",
        "for i in range(3):\n",
        "  knn = sklearn.neighbors.KNeighborsClassifier(n_neighbors=3) # adjust k\n",
        "  knn.fit(train_x[i], train_y[i])\n",
        "  dic['accuracys'].append(knn.score(train_x[i], train_y[i]))\n",
        "  dic['precisions'].append(precision_score(train_y[i], knn.predict(train_x[i])))\n",
        "  dic['recalls'].append(recall_score(train_y[i], knn.predict(train_x[i])))\n",
        "  dic['AUCs'].append(roc_auc_score(train_y[i], knn.predict(train_x[i])))\n",
        "\n",
        "print(\"Accuracy of perceptron: \", Average(dic['accuracys']))\n",
        "print(\"Precision of perceptron: \", Average(dic['precisions']))\n",
        "print(\"Recall of perceptron: \", Average(dic['recalls']))\n",
        "print(\"AUC of perceptron: \", Average(dic['AUCs']))\n"
      ]
    },
    {
      "cell_type": "markdown",
      "metadata": {
        "id": "mKmBpzxh3949"
      },
      "source": [
        "## Logistic Regression"
      ]
    },
    {
      "cell_type": "code",
      "execution_count": null,
      "metadata": {
        "colab": {
          "base_uri": "https://localhost:8080/"
        },
        "id": "LphIQOMLhizh",
        "outputId": "9f552a41-6796-4a64-b463-108d9327304c"
      },
      "outputs": [
        {
          "output_type": "stream",
          "name": "stdout",
          "text": [
            "-----C_value: 100 ------solver: newton-cg ------\n",
            "Accuracy of training:  0.8680178796874466\n",
            "Accuracy of validation:  0.8668236257549391\n",
            "Precision of validation:  0.7693451342558907\n",
            "Recall of validation:  0.5579313256176531\n",
            "AUC of validation:  0.7555627227911194\n",
            "-----C_value: 100 ------solver: lbfgs ------\n",
            "Accuracy of training:  0.8680178796874466\n",
            "Accuracy of validation:  0.8668236257549391\n",
            "Precision of validation:  0.7693451342558907\n",
            "Recall of validation:  0.5579313256176531\n",
            "AUC of validation:  0.7555627227911194\n",
            "-----C_value: 100 ------solver: sag ------\n",
            "Accuracy of training:  0.8680178796874466\n",
            "Accuracy of validation:  0.8668236257549391\n",
            "Precision of validation:  0.7693451342558907\n",
            "Recall of validation:  0.5579313256176531\n",
            "AUC of validation:  0.7555627227911194\n",
            "-----C_value: 100 ------solver: saga ------\n",
            "Accuracy of training:  0.8680178796874466\n",
            "Accuracy of validation:  0.8668577472958678\n",
            "Precision of validation:  0.7693937381308985\n",
            "Recall of validation:  0.5580874536426336\n",
            "AUC of validation:  0.7556407868036098\n",
            "-----C_value: 10 ------solver: newton-cg ------\n",
            "Accuracy of training:  0.8680520012283756\n",
            "Accuracy of validation:  0.8668577472958678\n",
            "Precision of validation:  0.7693937381308985\n",
            "Recall of validation:  0.5580874536426336\n",
            "AUC of validation:  0.7556407868036098\n",
            "-----C_value: 10 ------solver: lbfgs ------\n",
            "Accuracy of training:  0.8680520012283756\n",
            "Accuracy of validation:  0.8668577472958678\n",
            "Precision of validation:  0.7693937381308985\n",
            "Recall of validation:  0.5580874536426336\n",
            "AUC of validation:  0.7556407868036098\n",
            "-----C_value: 10 ------solver: sag ------\n",
            "Accuracy of training:  0.8680349404579112\n",
            "Accuracy of validation:  0.8668236257549391\n",
            "Precision of validation:  0.7693451342558907\n",
            "Recall of validation:  0.5579313256176531\n",
            "AUC of validation:  0.7555627227911194\n",
            "-----C_value: 10 ------solver: saga ------\n",
            "Accuracy of training:  0.8680178796874466\n",
            "Accuracy of validation:  0.8668577472958678\n",
            "Precision of validation:  0.7693937381308985\n",
            "Recall of validation:  0.5580874536426336\n",
            "AUC of validation:  0.7556407868036098\n",
            "-----C_value: 1.0 ------solver: newton-cg ------\n",
            "Accuracy of training:  0.8680008189169822\n",
            "Accuracy of validation:  0.8668918688367967\n",
            "Precision of validation:  0.7694471888121578\n",
            "Recall of validation:  0.5582436548297627\n",
            "AUC of validation:  0.7557188873971742\n",
            "-----C_value: 1.0 ------solver: lbfgs ------\n",
            "Accuracy of training:  0.8680178796874466\n",
            "Accuracy of validation:  0.8668918688367967\n",
            "Precision of validation:  0.7694471888121578\n",
            "Recall of validation:  0.5582436548297627\n",
            "AUC of validation:  0.7557188873971742\n",
            "-----C_value: 1.0 ------solver: sag ------\n",
            "Accuracy of training:  0.8680008189169822\n",
            "Accuracy of validation:  0.8668918688367967\n",
            "Precision of validation:  0.7694471888121578\n",
            "Recall of validation:  0.5582436548297627\n",
            "AUC of validation:  0.7557188873971742\n",
            "-----C_value: 1.0 ------solver: saga ------\n",
            "Accuracy of training:  0.8680008189169822\n",
            "Accuracy of validation:  0.8668918688367967\n",
            "Precision of validation:  0.7694471888121578\n",
            "Recall of validation:  0.5582436548297627\n",
            "AUC of validation:  0.7557188873971742\n",
            "-----C_value: 0.1 ------solver: newton-cg ------\n",
            "Accuracy of training:  0.868034940457911\n",
            "Accuracy of validation:  0.8670965980823694\n",
            "Precision of validation:  0.7711404610597041\n",
            "Recall of validation:  0.5573066671934342\n",
            "AUC of validation:  0.7555123679938411\n",
            "-----C_value: 0.1 ------solver: lbfgs ------\n",
            "Accuracy of training:  0.8680178796874468\n",
            "Accuracy of validation:  0.8670624765414406\n",
            "Precision of validation:  0.771092253508027\n",
            "Recall of validation:  0.5571505391684536\n",
            "AUC of validation:  0.7554343039813508\n",
            "-----C_value: 0.1 ------solver: sag ------\n",
            "Accuracy of training:  0.868034940457911\n",
            "Accuracy of validation:  0.8671307196232982\n",
            "Precision of validation:  0.7711937773318304\n",
            "Recall of validation:  0.5574628683805631\n",
            "AUC of validation:  0.7555904685874056\n",
            "-----C_value: 0.1 ------solver: saga ------\n",
            "Accuracy of training:  0.8680178796874468\n",
            "Accuracy of validation:  0.8670965980823694\n",
            "Precision of validation:  0.7711404610597041\n",
            "Recall of validation:  0.5573066671934342\n",
            "AUC of validation:  0.7555123679938411\n",
            "-----C_value: 0.01 ------solver: newton-cg ------\n",
            "Accuracy of training:  0.8668065649844747\n",
            "Accuracy of validation:  0.866653018050295\n",
            "Precision of validation:  0.7806663301170887\n",
            "Recall of validation:  0.5421598344194254\n",
            "AUC of validation:  0.7497727582132381\n",
            "-----C_value: 0.01 ------solver: lbfgs ------\n",
            "Accuracy of training:  0.8668065649844747\n",
            "Accuracy of validation:  0.866653018050295\n",
            "Precision of validation:  0.7806663301170887\n",
            "Recall of validation:  0.5421598344194254\n",
            "AUC of validation:  0.7497727582132381\n",
            "-----C_value: 0.01 ------solver: sag ------\n",
            "Accuracy of training:  0.8667895042140104\n",
            "Accuracy of validation:  0.866653018050295\n",
            "Precision of validation:  0.7806663301170887\n",
            "Recall of validation:  0.5421598344194254\n",
            "AUC of validation:  0.7497727582132381\n",
            "-----C_value: 0.01 ------solver: saga ------\n",
            "Accuracy of training:  0.8668065649844747\n",
            "Accuracy of validation:  0.866653018050295\n",
            "Precision of validation:  0.7806663301170887\n",
            "Recall of validation:  0.5421598344194254\n",
            "AUC of validation:  0.7497727582132381\n"
          ]
        }
      ],
      "source": [
        "# Logistic Regression\n",
        "from sklearn.linear_model import LogisticRegression\n",
        "def logistic(solver,c,train_x, train_y,val_x,val_y):\n",
        "  dic = {'training_acc':[],'accuracys':[], 'precisions':[], 'recalls':[],'AUCs':[]}\n",
        "  for i in range(3):\n",
        "    clf_log = make_pipeline(StandardScaler(),LogisticRegression(random_state = 0,solver = solver, C = c,max_iter=1000))\n",
        "    clf_log.fit(train_x[i], train_y[i])\n",
        "    dic['training_acc'].append(clf_log.score(train_x[i],train_y[i]))\n",
        "    dic['accuracys'].append(clf_log.score(val_x[i],val_y[i])) \n",
        "    dic['precisions'].append(precision_score(val_y[i], clf_log.predict(val_x[i])))\n",
        "    dic['recalls'].append(recall_score(val_y[i], clf_log.predict(val_x[i])))\n",
        "    dic['AUCs'].append(roc_auc_score(val_y[i], clf_log.predict(val_x[i])))\n",
        "\n",
        "  print(\"Accuracy of training: \", Average(dic['training_acc']))\n",
        "  print(\"Accuracy of validation: \", Average(dic['accuracys']))\n",
        "  print(\"Precision of validation: \", Average(dic['precisions']))\n",
        "  print(\"Recall of validation: \", Average(dic['recalls']))\n",
        "  print(\"AUC of validation: \", Average(dic['AUCs']))\n",
        "  return Average(dic['accuracys']), Average(dic['precisions']), Average(dic['recalls']), Average(dic['AUCs'])\n",
        "\n",
        "c_values = [100, 10, 1.0, 0.1, 0.01]\n",
        "solvers = ['newton-cg', 'lbfgs', 'sag', 'saga']\n",
        "\n",
        "for c in c_values:\n",
        "  for solver in solvers:\n",
        "    print(\"-----C_value:\",c,\"------solver:\",solver,'------')\n",
        "    logistic(solver,c,train_x, train_y,val_x,val_y)"
      ]
    },
    {
      "cell_type": "markdown",
      "metadata": {
        "id": "ZyHAadwlx73i"
      },
      "source": [
        "There is no significant change by hyperparameter tuning..."
      ]
    },
    {
      "cell_type": "markdown",
      "metadata": {
        "id": "2kf08z9tfroj"
      },
      "source": [
        "## SVM"
      ]
    },
    {
      "cell_type": "code",
      "execution_count": null,
      "metadata": {
        "id": "VGAzLcWbo_oD"
      },
      "outputs": [],
      "source": [
        "from sklearn.pipeline import make_pipeline\n",
        "from sklearn.preprocessing import StandardScaler\n",
        "from sklearn.svm import SVC"
      ]
    },
    {
      "cell_type": "code",
      "execution_count": null,
      "metadata": {
        "colab": {
          "base_uri": "https://localhost:8080/"
        },
        "id": "7TagImSC-vDA",
        "outputId": "4163fabd-ecb5-472e-f1f2-1c6b064514eb"
      },
      "outputs": [
        {
          "name": "stdout",
          "output_type": "stream",
          "text": [
            "-----C_value: 100 ------kernel: poly ------\n",
            "Accuracy of training:  0.9280547309516498\n",
            "Accuracy of validation:  0.9108062920121472\n",
            "Precision of validation:  0.896242690054656\n",
            "Recall of validation:  0.6694270013688638\n",
            "AUC of validation:  0.8238634489535209\n",
            "-----C_value: 100 ------kernel: rbf ------\n",
            "Accuracy of training:  0.9433582420582113\n",
            "Accuracy of validation:  0.9113522366670078\n",
            "Precision of validation:  0.887100766449081\n",
            "Recall of validation:  0.6809817189739448\n",
            "AUC of validation:  0.8283745313631027\n",
            "-----C_value: 100 ------kernel: sigmoid ------\n",
            "Accuracy of training:  0.7658409253761901\n",
            "Accuracy of validation:  0.7654485276555089\n",
            "Precision of validation:  0.46373016427546304\n",
            "Recall of validation:  0.46783404190874195\n",
            "AUC of validation:  0.6582499078079941\n",
            "-----C_value: 75 ------kernel: poly ------\n",
            "Accuracy of training:  0.9273040570512164\n",
            "Accuracy of validation:  0.9103627119800729\n",
            "Precision of validation:  0.8961245875596022\n",
            "Recall of validation:  0.6672405505598001\n",
            "AUC of validation:  0.8227920585628693\n",
            "-----C_value: 75 ------kernel: rbf ------\n",
            "Accuracy of training:  0.9414644965366636\n",
            "Accuracy of validation:  0.9124782475176577\n",
            "Precision of validation:  0.8937324722351007\n",
            "Recall of validation:  0.6803572068740228\n",
            "AUC of validation:  0.8288700307120319\n",
            "-----C_value: 75 ------kernel: sigmoid ------\n",
            "Accuracy of training:  0.7658238646057255\n",
            "Accuracy of validation:  0.7653802845736513\n",
            "Precision of validation:  0.46359026287661437\n",
            "Recall of validation:  0.4675214932101868\n",
            "AUC of validation:  0.6580936305992333\n",
            "-----C_value: 50 ------kernel: poly ------\n",
            "Accuracy of training:  0.9269116593305352\n",
            "Accuracy of validation:  0.9110792643395774\n",
            "Precision of validation:  0.9000405154254808\n",
            "Recall of validation:  0.6672405505598001\n",
            "AUC of validation:  0.8232504937724411\n",
            "-----C_value: 50 ------kernel: rbf ------\n",
            "Accuracy of training:  0.9386835909509674\n",
            "Accuracy of validation:  0.9130241921725185\n",
            "Precision of validation:  0.9014723525706843\n",
            "Recall of validation:  0.6758287625281034\n",
            "AUC of validation:  0.8275882068757223\n",
            "-----C_value: 50 ------kernel: sigmoid ------\n",
            "Accuracy of training:  0.7650561299348277\n",
            "Accuracy of validation:  0.767188726242877\n",
            "Precision of validation:  0.46757381849581026\n",
            "Recall of validation:  0.47048814517126164\n",
            "AUC of validation:  0.6603192097965035\n",
            "-----C_value: 10 ------kernel: poly ------\n",
            "Accuracy of training:  0.9240454498925171\n",
            "Accuracy of validation:  0.9114204797488655\n",
            "Precision of validation:  0.9145046164408986\n",
            "Recall of validation:  0.6559975037074919\n",
            "AUC of validation:  0.8194191212223441\n",
            "-----C_value: 10 ------kernel: rbf ------\n",
            "Accuracy of training:  0.9292489848841573\n",
            "Accuracy of validation:  0.9153444569556761\n",
            "Precision of validation:  0.9210289983216647\n",
            "Recall of validation:  0.6700508550094489\n",
            "AUC of validation:  0.8269915578409991\n",
            "-----C_value: 10 ------kernel: sigmoid ------\n",
            "Accuracy of training:  0.7666939638994097\n",
            "Accuracy of validation:  0.7676664278158801\n",
            "Precision of validation:  0.46813479936488817\n",
            "Recall of validation:  0.464867097299073\n",
            "AUC of validation:  0.6586003193156079\n",
            "-----C_value: 1 ------kernel: poly ------\n",
            "Accuracy of training:  0.9149179376940663\n",
            "Accuracy of validation:  0.9068823148053365\n",
            "Precision of validation:  0.932364001007106\n",
            "Recall of validation:  0.6188330344659566\n",
            "AUC of validation:  0.8031291770287643\n",
            "-----C_value: 1 ------kernel: rbf ------\n",
            "Accuracy of training:  0.9164363462653973\n",
            "Accuracy of validation:  0.910055618111714\n",
            "Precision of validation:  0.921871432147828\n",
            "Recall of validation:  0.6430370485803983\n",
            "AUC of validation:  0.8138776648599352\n",
            "-----C_value: 1 ------kernel: sigmoid ------\n",
            "Accuracy of training:  0.7680247039956324\n",
            "Accuracy of validation:  0.7718633773501212\n",
            "Precision of validation:  0.477386014137406\n",
            "Recall of validation:  0.4643986400619829\n",
            "AUC of validation:  0.661116782020024\n"
          ]
        }
      ],
      "source": [
        "# SVM\n",
        "def svm(kernel,c,train_x, train_y,val_x,val_y):\n",
        "  dic = {'training_acc':[],'accuracys':[], 'precisions':[], 'recalls':[],'AUCs':[]}\n",
        "  for i in range(3):\n",
        "    svm = make_pipeline(StandardScaler(), SVC(gamma='scale',kernel = kernel, C = c))\n",
        "    svm.fit(train_x[i], train_y[i])\n",
        "    dic['training_acc'].append(svm.score(train_x[i],train_y[i]))\n",
        "    dic['accuracys'].append(svm.score(val_x[i],val_y[i])) \n",
        "    dic['precisions'].append(precision_score(val_y[i], svm.predict(val_x[i])))\n",
        "    dic['recalls'].append(recall_score(val_y[i], svm.predict(val_x[i])))\n",
        "    dic['AUCs'].append(roc_auc_score(val_y[i], svm.predict(val_x[i])))\n",
        "\n",
        "  print(\"Accuracy of training: \", Average(dic['training_acc']))\n",
        "  print(\"Accuracy of validation: \", Average(dic['accuracys']))\n",
        "  print(\"Precision of validation: \", Average(dic['precisions']))\n",
        "  print(\"Recall of validation: \", Average(dic['recalls']))\n",
        "  print(\"AUC of validation: \", Average(dic['AUCs']))\n",
        "  return Average(dic['accuracys']), Average(dic['precisions']), Average(dic['recalls']), Average(dic['AUCs'])\n",
        "\n",
        "C = [100, 75, 50, 10, 1]\n",
        "kernels = ['poly', 'rbf', 'sigmoid']\n",
        "\n",
        "for c in C:\n",
        "  for kernel in kernels:\n",
        "    print(\"-----C_value:\",c,\"------kernel:\",kernel,'------')\n",
        "    svm(kernel,c,train_x, train_y,val_x,val_y)"
      ]
    },
    {
      "cell_type": "code",
      "execution_count": null,
      "metadata": {
        "colab": {
          "base_uri": "https://localhost:8080/"
        },
        "id": "U7us6DGXC158",
        "outputId": "5e21e9be-a856-47f5-a301-b942662b4aaf"
      },
      "outputs": [
        {
          "name": "stdout",
          "output_type": "stream",
          "text": [
            "-----degree: 2 ------\n",
            "Accuracy of training:  0.9045449892517147\n",
            "Accuracy of validation:  0.9001603712423654\n",
            "Precision of validation:  0.8924788782735321\n",
            "Recall of validation:  0.6175836444553701\n",
            "AUC of validation:  0.7983783935683314\n",
            "-----degree: 3 ------\n",
            "Accuracy of training:  0.9269116593305352\n",
            "Accuracy of validation:  0.9110792643395774\n",
            "Precision of validation:  0.9000405154254808\n",
            "Recall of validation:  0.6672405505598001\n",
            "AUC of validation:  0.8232504937724411\n",
            "-----degree: 4 ------\n",
            "Accuracy of training:  0.9400655133585832\n",
            "Accuracy of validation:  0.9038454976626745\n",
            "Precision of validation:  0.8694648453799153\n",
            "Recall of validation:  0.6589637166956754\n",
            "AUC of validation:  0.8156408986869678\n",
            "-----degree: 5 ------\n",
            "Accuracy of training:  0.9487323847544955\n",
            "Accuracy of validation:  0.8999215204558637\n",
            "Precision of validation:  0.8458261198245948\n",
            "Recall of validation:  0.662866697833742\n",
            "AUC of validation:  0.8145359648464687\n"
          ]
        }
      ],
      "source": [
        "def svm_poly(degree,train_x, train_y,val_x,val_y):\n",
        "  dic = {'training_acc':[],'accuracys':[], 'precisions':[], 'recalls':[],'AUCs':[]}\n",
        "  for i in range(3):\n",
        "    svm = make_pipeline(StandardScaler(), SVC(gamma='scale',kernel = 'poly',degree = degree, C = 50))\n",
        "    svm.fit(train_x[i], train_y[i])\n",
        "    dic['training_acc'].append(svm.score(train_x[i],train_y[i]))\n",
        "    dic['accuracys'].append(svm.score(val_x[i],val_y[i])) \n",
        "    dic['precisions'].append(precision_score(val_y[i], svm.predict(val_x[i])))\n",
        "    dic['recalls'].append(recall_score(val_y[i], svm.predict(val_x[i])))\n",
        "    dic['AUCs'].append(roc_auc_score(val_y[i], svm.predict(val_x[i])))\n",
        "\n",
        "  print(\"Accuracy of training: \", Average(dic['training_acc']))\n",
        "  print(\"Accuracy of validation: \", Average(dic['accuracys']))\n",
        "  print(\"Precision of validation: \", Average(dic['precisions']))\n",
        "  print(\"Recall of validation: \", Average(dic['recalls']))\n",
        "  print(\"AUC of validation: \", Average(dic['AUCs']))\n",
        "  return Average(dic['accuracys']), Average(dic['precisions']), Average(dic['recalls']), Average(dic['AUCs'])\n",
        "\n",
        "degrees = [2,3,4,5]\n",
        "\n",
        "\n",
        "for degree in degrees:\n",
        "  print(\"-----degree:\",degree,'------')\n",
        "  svm_poly(degree,train_x, train_y,val_x,val_y)"
      ]
    },
    {
      "cell_type": "markdown",
      "metadata": {
        "id": "dGaeuKOiLoyw"
      },
      "source": [
        "c = 50, kernel = rbf makes the highest accuracy"
      ]
    },
    {
      "cell_type": "markdown",
      "metadata": {
        "id": "qc6DzuqC3ibE"
      },
      "source": [
        "## Neural Network"
      ]
    },
    {
      "cell_type": "code",
      "execution_count": null,
      "metadata": {
        "id": "zs9cqrk_3lUU"
      },
      "outputs": [],
      "source": [
        "import torch\n",
        "import torch.nn as nn\n",
        "import torch.optim as optim\n",
        "import torch.nn.functional as F"
      ]
    },
    {
      "cell_type": "code",
      "execution_count": null,
      "metadata": {
        "id": "rZgOzSja3rSI"
      },
      "outputs": [],
      "source": [
        "x_train_val, x_test, y_train_val, y_test = model_selection.train_test_split(data_x,data_y,random_state = 42, test_size = 0.1)\n"
      ]
    },
    {
      "cell_type": "code",
      "execution_count": null,
      "metadata": {
        "id": "piovwC7nTIOo"
      },
      "outputs": [],
      "source": [
        "from sklearn.preprocessing import StandardScaler\n",
        "sc = StandardScaler()\n",
        "x_train = sc.fit_transform(x_train_val)\n",
        "y_train = np.array(y_train_val)\n",
        "x_val = sc.fit_transform(x_test)\n",
        "y_val = np.array(y_test)\n",
        "\n",
        "y_val = np.expand_dims(y_val,axis=1)\n",
        "y_train = np.expand_dims(y_train,axis=1)\n"
      ]
    },
    {
      "cell_type": "code",
      "execution_count": null,
      "metadata": {
        "id": "FDwIiBy63ral"
      },
      "outputs": [],
      "source": [
        "#defining dataset class\n",
        "from torch.utils.data import Dataset, DataLoader\n",
        "class dataset(Dataset):\n",
        "  def __init__(self,x_train,y_train):\n",
        "    self.x_train = torch.tensor(x_train,dtype=torch.float32)\n",
        "    self.y_train = torch.tensor(y_train,dtype=torch.float32)\n",
        "    self.length = self.x_train.shape[0]\n",
        " \n",
        "  def __getitem__(self,idx):\n",
        "    return self.x_train[idx],self.y_train[idx]\n",
        "  def __len__(self):\n",
        "    return self.length\n",
        "train_set = dataset(x_train,y_train)\n",
        "#DataLoader\n",
        "#trainloader = DataLoader(trainset,batch_size=64,shuffle=False)"
      ]
    },
    {
      "cell_type": "code",
      "execution_count": null,
      "metadata": {
        "id": "VNhpdEaF3wRk"
      },
      "outputs": [],
      "source": [
        "#defining dataset class\n",
        "from torch.utils.data import Dataset, DataLoader\n",
        "class dataset(Dataset):\n",
        "  def __init__(self,x_val,y_val):\n",
        "    self.x_val = torch.tensor(x_val,dtype=torch.float32)\n",
        "    self.y_val = torch.tensor(y_val,dtype=torch.float32)\n",
        "    self.length = self.x_val.shape[0]\n",
        " \n",
        "  def __getitem__(self,idx):\n",
        "    return self.x_val[idx],self.y_val[idx]\n",
        "  def __len__(self):\n",
        "    return self.length\n",
        "val_set = dataset(x_val,y_val)\n",
        "#DataLoader\n",
        "#valloader = DataLoader(valset,batch_size=64,shuffle=False)"
      ]
    },
    {
      "cell_type": "code",
      "execution_count": null,
      "metadata": {
        "id": "M2DcOaPf4EWV"
      },
      "outputs": [],
      "source": [
        "# define NN\n",
        "class Clf(nn.Module):\n",
        "    def __init__(self):\n",
        "        super(Clf, self).__init__()\n",
        "        self.layers = nn.Sequential(\n",
        "            nn.Linear(26,64),\n",
        "            nn.ReLU(),\n",
        "            nn.Linear(64,96),\n",
        "            nn.ReLU(),\n",
        "            nn.Linear(96,1)\n",
        "        )\n",
        "\n",
        "    def forward(self, x):\n",
        "        return self.layers(x)"
      ]
    },
    {
      "cell_type": "code",
      "execution_count": null,
      "metadata": {
        "colab": {
          "base_uri": "https://localhost:8080/",
          "height": 1000
        },
        "id": "ZnoCxtia4GVA",
        "outputId": "e22f4054-bff5-4fd2-e600-274289a6c3ad"
      },
      "outputs": [
        {
          "name": "stdout",
          "output_type": "stream",
          "text": [
            "Train Epoch: 0 \tLoss: 0.561539\tVal Loss: 0.454072\tVal Acc: 0.786306\n",
            "Train Epoch: 1 \tLoss: 0.397853\tVal Loss: 0.370485\tVal Acc: 0.848327\n",
            "Train Epoch: 2 \tLoss: 0.344457\tVal Loss: 0.338469\tVal Acc: 0.870126\n",
            "Train Epoch: 3 \tLoss: 0.319785\tVal Loss: 0.321853\tVal Acc: 0.878416\n",
            "Train Epoch: 4 \tLoss: 0.304378\tVal Loss: 0.310437\tVal Acc: 0.880872\n",
            "Train Epoch: 5 \tLoss: 0.292961\tVal Loss: 0.300936\tVal Acc: 0.885477\n",
            "Train Epoch: 6 \tLoss: 0.283711\tVal Loss: 0.292786\tVal Acc: 0.891925\n",
            "Train Epoch: 7 \tLoss: 0.276080\tVal Loss: 0.286193\tVal Acc: 0.896838\n",
            "Train Epoch: 8 \tLoss: 0.269654\tVal Loss: 0.280923\tVal Acc: 0.900522\n",
            "Train Epoch: 9 \tLoss: 0.264346\tVal Loss: 0.276855\tVal Acc: 0.902671\n",
            "Train Epoch: 10 \tLoss: 0.259985\tVal Loss: 0.273763\tVal Acc: 0.905434\n",
            "Train Epoch: 11 \tLoss: 0.256456\tVal Loss: 0.271205\tVal Acc: 0.905434\n",
            "Train Epoch: 12 \tLoss: 0.253491\tVal Loss: 0.269204\tVal Acc: 0.906663\n",
            "Train Epoch: 13 \tLoss: 0.250962\tVal Loss: 0.267483\tVal Acc: 0.906356\n",
            "Train Epoch: 14 \tLoss: 0.248709\tVal Loss: 0.265835\tVal Acc: 0.906970\n",
            "Train Epoch: 15 \tLoss: 0.246684\tVal Loss: 0.264292\tVal Acc: 0.906970\n",
            "Train Epoch: 16 \tLoss: 0.244810\tVal Loss: 0.262884\tVal Acc: 0.907584\n",
            "Train Epoch: 17 \tLoss: 0.243078\tVal Loss: 0.261519\tVal Acc: 0.907891\n",
            "Train Epoch: 18 \tLoss: 0.241443\tVal Loss: 0.260156\tVal Acc: 0.908812\n",
            "Train Epoch: 19 \tLoss: 0.239897\tVal Loss: 0.258786\tVal Acc: 0.908505\n",
            "Train Epoch: 20 \tLoss: 0.238402\tVal Loss: 0.257439\tVal Acc: 0.908812\n",
            "Train Epoch: 21 \tLoss: 0.237001\tVal Loss: 0.256229\tVal Acc: 0.908505\n",
            "Train Epoch: 22 \tLoss: 0.235641\tVal Loss: 0.255018\tVal Acc: 0.909733\n",
            "Train Epoch: 23 \tLoss: 0.234353\tVal Loss: 0.253861\tVal Acc: 0.910347\n",
            "Train Epoch: 24 \tLoss: 0.233128\tVal Loss: 0.252777\tVal Acc: 0.911268\n",
            "Train Epoch: 25 \tLoss: 0.231989\tVal Loss: 0.251790\tVal Acc: 0.911268\n",
            "Train Epoch: 26 \tLoss: 0.230872\tVal Loss: 0.250857\tVal Acc: 0.912496\n",
            "Train Epoch: 27 \tLoss: 0.229800\tVal Loss: 0.250009\tVal Acc: 0.912803\n",
            "Train Epoch: 28 \tLoss: 0.228760\tVal Loss: 0.249186\tVal Acc: 0.913724\n",
            "Train Epoch: 29 \tLoss: 0.227771\tVal Loss: 0.248260\tVal Acc: 0.914338\n",
            "Train Epoch: 30 \tLoss: 0.226801\tVal Loss: 0.247405\tVal Acc: 0.914952\n",
            "Train Epoch: 31 \tLoss: 0.225882\tVal Loss: 0.246657\tVal Acc: 0.914952\n",
            "Train Epoch: 32 \tLoss: 0.225020\tVal Loss: 0.245952\tVal Acc: 0.915259\n",
            "Train Epoch: 33 \tLoss: 0.224178\tVal Loss: 0.245261\tVal Acc: 0.915566\n",
            "Train Epoch: 34 \tLoss: 0.223357\tVal Loss: 0.244493\tVal Acc: 0.916181\n",
            "Train Epoch: 35 \tLoss: 0.222558\tVal Loss: 0.243876\tVal Acc: 0.916795\n",
            "Train Epoch: 36 \tLoss: 0.221786\tVal Loss: 0.243277\tVal Acc: 0.917409\n",
            "Train Epoch: 37 \tLoss: 0.221037\tVal Loss: 0.242769\tVal Acc: 0.918330\n",
            "Train Epoch: 38 \tLoss: 0.220331\tVal Loss: 0.242276\tVal Acc: 0.918637\n",
            "Train Epoch: 39 \tLoss: 0.219632\tVal Loss: 0.241880\tVal Acc: 0.919251\n",
            "Train Epoch: 40 \tLoss: 0.218972\tVal Loss: 0.241535\tVal Acc: 0.919558\n",
            "Train Epoch: 41 \tLoss: 0.218353\tVal Loss: 0.241162\tVal Acc: 0.919558\n",
            "Train Epoch: 42 \tLoss: 0.217737\tVal Loss: 0.240971\tVal Acc: 0.919558\n",
            "Train Epoch: 43 \tLoss: 0.217166\tVal Loss: 0.240754\tVal Acc: 0.919558\n",
            "Train Epoch: 44 \tLoss: 0.216616\tVal Loss: 0.240588\tVal Acc: 0.919558\n",
            "Train Epoch: 45 \tLoss: 0.216091\tVal Loss: 0.240394\tVal Acc: 0.919251\n",
            "Train Epoch: 46 \tLoss: 0.215572\tVal Loss: 0.240263\tVal Acc: 0.919558\n",
            "Train Epoch: 47 \tLoss: 0.215069\tVal Loss: 0.240119\tVal Acc: 0.919251\n",
            "Train Epoch: 48 \tLoss: 0.214573\tVal Loss: 0.240032\tVal Acc: 0.919865\n",
            "Train Epoch: 49 \tLoss: 0.214095\tVal Loss: 0.239820\tVal Acc: 0.920479\n"
          ]
        },
        {
          "data": {
            "image/png": "[encoded data removed]",
            "text/plain": [
              "<Figure size 432x288 with 1 Axes>"
            ]
          },
          "metadata": {},
          "output_type": "display_data"
        },
        {
          "data": {
            "image/png": "[encoded data removed]",
            "text/plain": [
              "<Figure size 432x288 with 1 Axes>"
            ]
          },
          "metadata": {},
          "output_type": "display_data"
        },
        {
          "data": {
            "image/png": "[encoded data removed]",
            "text/plain": [
              "<Figure size 432x288 with 1 Axes>"
            ]
          },
          "metadata": {},
          "output_type": "display_data"
        },
        {
          "data": {
            "text/plain": [
              "<Figure size 432x288 with 0 Axes>"
            ]
          },
          "metadata": {},
          "output_type": "display_data"
        }
      ],
      "source": [
        "def train(model, device, train_loader, val_loader, optimizer, n_epochs):\n",
        "\n",
        "    # send the model (and data) to the device\n",
        "    model.to(device)\n",
        "    training_loss = []\n",
        "    val_loss = []\n",
        "    val_acc = []\n",
        "    for epoch in range(n_epochs):\n",
        "\n",
        "        # switch to training mode\n",
        "        model.train()\n",
        "        total_loss = 0\n",
        "        for batch_idx, (data, target) in enumerate(train_loader):\n",
        "            # move the data to the device (e.g., cuda)\n",
        "            data, target = data.to(device), target.to(device)\n",
        "\n",
        "            optimizer.zero_grad()\n",
        "            output = model(data)\n",
        "            loss = F.binary_cross_entropy_with_logits(output,target)\n",
        "            loss.backward()\n",
        "            optimizer.step()\n",
        "\n",
        "            total_loss += loss.item()\n",
        "        training_loss.append(total_loss/len(train_loader))\n",
        "        print('Train Epoch: {} \\tLoss: {:.6f}'.format(\n",
        "            epoch, total_loss / len(train_loader)), end='\\t')\n",
        "\n",
        "        # switch to evaluation mode\n",
        "        model.eval()\n",
        "        total_loss = 0\n",
        "        acc = 0\n",
        "        total_samples = 0\n",
        "\n",
        "        for batch_idx, (data, target) in enumerate(val_loader):\n",
        "            # move the data to the device (e.g., cuda)\n",
        "            data, target = data.to(device), target.to(device)\n",
        "\n",
        "            # disable gradient - otherwise we are training on validation set!\n",
        "            with torch.no_grad():\n",
        "\n",
        "                output = model(data)\n",
        "                loss = F.binary_cross_entropy_with_logits(output,target)\n",
        "                output = torch.sigmoid(output)\n",
        "                output = output > 0.5\n",
        "                true_positive = torch.count_nonzero(output==target)\n",
        "                acc += true_positive\n",
        "                total_samples += len(target)\n",
        "                total_loss += loss.item()\n",
        "        val_loss.append(total_loss / len(val_loader))\n",
        "        val_acc.append(acc / total_samples)\n",
        "        print('Val Loss: {:.6f}\\tVal Acc: {:.6f}'.format(\n",
        "            total_loss / len(val_loader), acc / total_samples))\n",
        "    return training_loss,val_loss,val_acc\n",
        "        \n",
        "\n",
        "model = Clf()\n",
        "batch_size = 512\n",
        "train_loader = torch.utils.data.DataLoader(train_set, batch_size=batch_size)\n",
        "val_loader = torch.utils.data.DataLoader(val_set, batch_size=batch_size)\n",
        "optimizer = optim.Adam(model.parameters(), lr=5e-4)\n",
        "training_loss, val_loss, val_acc = train(model, 'cpu', train_loader, val_loader, optimizer, 50)\n",
        "\n",
        "epoch = range(50)\n",
        "plt.plot(epoch, training_loss)\n",
        "plt.xlabel(\"Epoch\")\n",
        "plt.ylabel(\"Training Loss\")\n",
        "plt.show()\n",
        "plt.clf()\n",
        "\n",
        "plt.plot(epoch, val_loss)\n",
        "plt.xlabel(\"Epoch\")\n",
        "plt.ylabel(\"Validation Loss\")\n",
        "plt.show()\n",
        "plt.clf()\n",
        "\n",
        "plt.plot(epoch, val_acc)\n",
        "plt.xlabel(\"Epoch\")\n",
        "plt.ylabel(\"Validation Accuracy\")\n",
        "plt.show()\n",
        "plt.clf()"
      ]
    },
    {
      "cell_type": "markdown",
      "metadata": {
        "id": "uXBaTgSO34F3"
      },
      "source": [
        "# Test Dataset and Feature Importance"
      ]
    },
    {
      "cell_type": "code",
      "execution_count": null,
      "metadata": {
        "id": "lKzvXm2Rvh7f"
      },
      "outputs": [],
      "source": [
        "def model_assess(model,name='Default'):\n",
        "  model.fit(x_train_val,y_train_val)\n",
        "  y_pre = model.predict(x_test)\n",
        "  acc = model.score(x_test, y_test)\n",
        "  precision = precision_score(y_test, y_pre)\n",
        "  recall = recall_score(y_test, y_pre)\n",
        "  auc = roc_auc_score(y_test, y_pre)  \n",
        "  print(name,'\\n','Accuracy: {:.6f} \\tPrecision: {:.6f}\\tValidation_Recall: {:.6f}\\t AUC: {:.6f}'.format(acc,precision,recall,auc))"
      ]
    },
    {
      "cell_type": "code",
      "execution_count": null,
      "metadata": {
        "id": "hHnI28JqzwlY"
      },
      "outputs": [],
      "source": [
        "x_train_val = sc.fit_transform(x_train_val)\n",
        "x_test = sc.fit_transform(x_test)"
      ]
    },
    {
      "cell_type": "code",
      "execution_count": null,
      "metadata": {
        "colab": {
          "base_uri": "https://localhost:8080/"
        },
        "id": "Crr2wlx9wi4o",
        "outputId": "1ac49e37-10c6-4bd3-a5aa-8ac97edfb1c4"
      },
      "outputs": [
        {
          "name": "stdout",
          "output_type": "stream",
          "text": [
            "Perceptron \n",
            " Accuracy: 0.778938 \tPrecision: 0.490710\tValidation_Recall: 0.638691\t AUC: 0.728116\n",
            "KNN \n",
            " Accuracy: 0.892539 \tPrecision: 0.832392\tValidation_Recall: 0.628734\t AUC: 0.796943\n",
            "Logistic Regression \n",
            " Accuracy: 0.855695 \tPrecision: 0.722753\tValidation_Recall: 0.537696\t AUC: 0.740461\n",
            "SVM \n",
            " Accuracy: 0.913417 \tPrecision: 0.890538\tValidation_Recall: 0.682788\t AUC: 0.829844\n"
          ]
        }
      ],
      "source": [
        "#Perceptron\n",
        "perceptron = sklearn.linear_model.Perceptron(max_iter=100,random_state=0)\n",
        "model_assess(perceptron,name = 'Perceptron')\n",
        "#KNN\n",
        "knn = sklearn.neighbors.KNeighborsClassifier(n_neighbors=5)\n",
        "model_assess(knn, name='KNN')\n",
        "#Logistic Regression\n",
        "lg = LogisticRegression(random_state = 0)\n",
        "model_assess(lg, 'Logistic Regression')\n",
        "#SVM\n",
        "from sklearn import svm\n",
        "svm = make_pipeline(StandardScaler(), SVC(gamma='scale',kernel = 'rbf',C=50))\n",
        "model_assess(svm, 'SVM')"
      ]
    },
    {
      "cell_type": "markdown",
      "metadata": {
        "id": "Olf6xbVv45Rw"
      },
      "source": [
        "As SVM gives the highest accuracy, precision, validation recall, and AUC, we use SVM to investigate feature importance"
      ]
    },
    {
      "cell_type": "code",
      "execution_count": null,
      "metadata": {
        "colab": {
          "base_uri": "https://localhost:8080/",
          "height": 297
        },
        "id": "aFcLETT08pCt",
        "outputId": "24be7a4e-49a3-4a92-f375-4c05c2e383cc"
      },
      "outputs": [
        {
          "data": {
            "text/plain": [
              "Text(0.5, 0, 'Feature Importance')"
            ]
          },
          "execution_count": 41,
          "metadata": {},
          "output_type": "execute_result"
        },
        {
          "data": {
            "image/png": "[encoded data removed]",
            "text/plain": [
              "<Figure size 432x288 with 1 Axes>"
            ]
          },
          "metadata": {},
          "output_type": "display_data"
        }
      ],
      "source": [
        "from sklearn.inspection import permutation_importance\n",
        "import numpy as np\n",
        "import matplotlib.pyplot as plt\n",
        "%matplotlib inline\n",
        "\n",
        "svm.fit(x_train_val, y_train_val)\n",
        "\n",
        "f_importance = permutation_importance(svm, x_test, y_test)\n",
        "\n",
        "feature_names = ['person_age', 'person_income', 'person_emp_length', 'loan_amnt',\n",
        "       'loan_int_rate', 'loan_percent_income', 'cb_person_cred_hist_length', \n",
        "       'rent','own', 'mortgage', 'other', 'personal', 'education', 'venture', 'medical',\n",
        "       'home_improvement', 'debt_consolidation', 'loan_grade_A',\n",
        "       'loan_grade_B', 'loan_grade_C', 'loan_grade_D', 'loan_grade_E',\n",
        "       'loan_grade_F', 'loan_grade_G', 'hist_default_Y', 'hist_default_N']\n",
        "features = np.array(feature_names)\n",
        "\n",
        "sorted_idx = f_importance.importances_mean.argsort()\n",
        "\n",
        "plt.barh(features[sorted_idx], f_importance.importances_mean[sorted_idx])\n",
        "plt.xlabel(\"Feature Importance\")"
      ]
    }
  ],
  "metadata": {
    "colab": {
      "provenance": []
    },
    "kernelspec": {
      "display_name": "Python 3",
      "name": "python3"
    },
    "language_info": {
      "name": "python"
    }
  },
  "nbformat": 4,
  "nbformat_minor": 0
}